{
 "cells": [
  {
   "cell_type": "markdown",
   "metadata": {},
   "source": [
    "# COGS 108 - Final Project"
   ]
  },
  {
   "cell_type": "markdown",
   "metadata": {},
   "source": [
    "# Permissions"
   ]
  },
  {
   "cell_type": "markdown",
   "metadata": {},
   "source": [
    "Place an X in the appropriate bracket below to specify if you would like your group's project to be made available to the public. (Note that PIDs will be scraped from the public submission, but student names will be included.)\n",
    "\n",
    "[X] YES - make available\n",
    "[ ] NO - keep private"
   ]
  },
  {
   "cell_type": "markdown",
   "metadata": {},
   "source": [
    "# Overview"
   ]
  },
  {
   "cell_type": "code",
   "execution_count": 39,
   "metadata": {},
   "outputs": [],
   "source": [
    "# FINAL RESULT (SUMMARY) -Wilson"
   ]
  },
  {
   "cell_type": "markdown",
   "metadata": {},
   "source": [
    "# Names\n",
    "\n",
    "- Yilan Guo\n",
    "- Xueru Xie\n",
    "- Jinsong Yang\n",
    "- Zeqian Min\n",
    "- Eric Wang"
   ]
  },
  {
   "cell_type": "markdown",
   "metadata": {},
   "source": [
    "# Group Members IDs\n",
    "\n",
    "- A15563949\n",
    "- A15451232\n",
    "- A15389337\n",
    "- A15481129\n",
    "- A15545920"
   ]
  },
  {
   "cell_type": "markdown",
   "metadata": {},
   "source": [
    "# Research Question"
   ]
  },
  {
   "cell_type": "code",
   "execution_count": 44,
   "metadata": {},
   "outputs": [],
   "source": [
    "# Our question was not good."
   ]
  },
  {
   "cell_type": "markdown",
   "metadata": {},
   "source": [
    "# Background and Prior Work\n",
    "# If our research question is not about race, delete second paragraph."
   ]
  },
  {
   "cell_type": "markdown",
   "metadata": {},
   "source": [
    "We are interested in studying gun shooting events in America because we want to know how serious is this affecting many Americans. We want to know why American people keep dying under mass shootings. Specifically, we want to know how a gun shooting happens, why a gun shooting happens, and who a gun shooting targets. Our first hypothesis is that gun shooting events should decrease after the outbreak of COVID-19 because of the stay home orders that prevent people shooting others. The article from Bloogberg confirms our prediction, since \"the number of mass shooting incidents, killings and firearm injuries all dropped as states and cities took aggressive measures to contain the virus\" (2).\n",
    "\n",
    "Besides looking for the gun shooting rate between pre-COVID and post-COVID, we also want to know about the correlation between gun violence and race because we want to know whether a certain race is being discriminated by the police force. CNN has done a research on the similar topic, showing a chart of how black Americans has more firarm homicide death rate than white Americans (1). We want to know whether there is a similar trend between the race and the police when it comes to police shooting.\n",
    "\n",
    "References (include links):\n",
    "\n",
    "1) https://www.cnn.com/2018/04/23/health/gun-deaths-in-men-by-state-study/index.html\n",
    "2) https://www.bloomberg.com/news/articles/2020-05-09/one-good-thing-from-the-pandemic-mass-shootings-in-u-s-plunge"
   ]
  },
  {
   "cell_type": "markdown",
   "metadata": {},
   "source": [
    "# Hypothesis"
   ]
  },
  {
   "cell_type": "code",
   "execution_count": 42,
   "metadata": {},
   "outputs": [],
   "source": [
    "# Not good enough -Vacant"
   ]
  },
  {
   "cell_type": "markdown",
   "metadata": {},
   "source": [
    "# Dataset(s)"
   ]
  },
  {
   "cell_type": "markdown",
   "metadata": {},
   "source": [
    "Dataset Name:\n",
    "Link to the dataset: https://github.com/washingtonpost/data-police-shootings\n",
    "Number of observations: 5865 rows, 17 columns\n",
    "1-2 sentences describing each dataset.\n",
    "\n",
    "Our dataset comes from the Washington Post database. This dataset contains every fatal shooting in America by the police, starting from January, 2015 to December, 2020. Each observation contains the incident ID, name of the person that is killed by the police, the date being killed, type of death, the person's weapon, age, gender race, city, state, mental illness sign, threat level, flee condition, body camera of the police, geographic location of the incident, and whether there is exact geocoding of the incident."
   ]
  },
  {
   "cell_type": "markdown",
   "metadata": {},
   "source": [
    "# Setup"
   ]
  },
  {
   "cell_type": "code",
   "execution_count": 116,
   "metadata": {},
   "outputs": [],
   "source": [
    "import pandas as pd\n",
    "import numpy as np\n",
    "import matplotlib.pyplot as plt\n",
    "import seaborn as sns\n",
    "%matplotlib inline"
   ]
  },
  {
   "cell_type": "markdown",
   "metadata": {},
   "source": [
    "# Data Cleaning\n"
   ]
  },
  {
   "cell_type": "code",
   "execution_count": 117,
   "metadata": {},
   "outputs": [
    {
     "data": {
      "text/html": [
       "<div>\n",
       "<style scoped>\n",
       "    .dataframe tbody tr th:only-of-type {\n",
       "        vertical-align: middle;\n",
       "    }\n",
       "\n",
       "    .dataframe tbody tr th {\n",
       "        vertical-align: top;\n",
       "    }\n",
       "\n",
       "    .dataframe thead th {\n",
       "        text-align: right;\n",
       "    }\n",
       "</style>\n",
       "<table border=\"1\" class=\"dataframe\">\n",
       "  <thead>\n",
       "    <tr style=\"text-align: right;\">\n",
       "      <th></th>\n",
       "      <th>id</th>\n",
       "      <th>name</th>\n",
       "      <th>date</th>\n",
       "      <th>manner_of_death</th>\n",
       "      <th>armed</th>\n",
       "      <th>age</th>\n",
       "      <th>gender</th>\n",
       "      <th>race</th>\n",
       "      <th>city</th>\n",
       "      <th>state</th>\n",
       "      <th>signs_of_mental_illness</th>\n",
       "      <th>threat_level</th>\n",
       "      <th>flee</th>\n",
       "      <th>body_camera</th>\n",
       "      <th>longitude</th>\n",
       "      <th>latitude</th>\n",
       "      <th>is_geocoding_exact</th>\n",
       "    </tr>\n",
       "  </thead>\n",
       "  <tbody>\n",
       "    <tr>\n",
       "      <th>0</th>\n",
       "      <td>3</td>\n",
       "      <td>Tim Elliot</td>\n",
       "      <td>2015-01-02</td>\n",
       "      <td>shot</td>\n",
       "      <td>gun</td>\n",
       "      <td>53.0</td>\n",
       "      <td>M</td>\n",
       "      <td>A</td>\n",
       "      <td>Shelton</td>\n",
       "      <td>WA</td>\n",
       "      <td>True</td>\n",
       "      <td>attack</td>\n",
       "      <td>Not fleeing</td>\n",
       "      <td>False</td>\n",
       "      <td>-123.122</td>\n",
       "      <td>47.247</td>\n",
       "      <td>True</td>\n",
       "    </tr>\n",
       "    <tr>\n",
       "      <th>1</th>\n",
       "      <td>4</td>\n",
       "      <td>Lewis Lee Lembke</td>\n",
       "      <td>2015-01-02</td>\n",
       "      <td>shot</td>\n",
       "      <td>gun</td>\n",
       "      <td>47.0</td>\n",
       "      <td>M</td>\n",
       "      <td>W</td>\n",
       "      <td>Aloha</td>\n",
       "      <td>OR</td>\n",
       "      <td>False</td>\n",
       "      <td>attack</td>\n",
       "      <td>Not fleeing</td>\n",
       "      <td>False</td>\n",
       "      <td>-122.892</td>\n",
       "      <td>45.487</td>\n",
       "      <td>True</td>\n",
       "    </tr>\n",
       "    <tr>\n",
       "      <th>2</th>\n",
       "      <td>5</td>\n",
       "      <td>John Paul Quintero</td>\n",
       "      <td>2015-01-03</td>\n",
       "      <td>shot and Tasered</td>\n",
       "      <td>unarmed</td>\n",
       "      <td>23.0</td>\n",
       "      <td>M</td>\n",
       "      <td>H</td>\n",
       "      <td>Wichita</td>\n",
       "      <td>KS</td>\n",
       "      <td>False</td>\n",
       "      <td>other</td>\n",
       "      <td>Not fleeing</td>\n",
       "      <td>False</td>\n",
       "      <td>-97.281</td>\n",
       "      <td>37.695</td>\n",
       "      <td>True</td>\n",
       "    </tr>\n",
       "    <tr>\n",
       "      <th>3</th>\n",
       "      <td>8</td>\n",
       "      <td>Matthew Hoffman</td>\n",
       "      <td>2015-01-04</td>\n",
       "      <td>shot</td>\n",
       "      <td>toy weapon</td>\n",
       "      <td>32.0</td>\n",
       "      <td>M</td>\n",
       "      <td>W</td>\n",
       "      <td>San Francisco</td>\n",
       "      <td>CA</td>\n",
       "      <td>True</td>\n",
       "      <td>attack</td>\n",
       "      <td>Not fleeing</td>\n",
       "      <td>False</td>\n",
       "      <td>-122.422</td>\n",
       "      <td>37.763</td>\n",
       "      <td>True</td>\n",
       "    </tr>\n",
       "    <tr>\n",
       "      <th>4</th>\n",
       "      <td>9</td>\n",
       "      <td>Michael Rodriguez</td>\n",
       "      <td>2015-01-04</td>\n",
       "      <td>shot</td>\n",
       "      <td>nail gun</td>\n",
       "      <td>39.0</td>\n",
       "      <td>M</td>\n",
       "      <td>H</td>\n",
       "      <td>Evans</td>\n",
       "      <td>CO</td>\n",
       "      <td>False</td>\n",
       "      <td>attack</td>\n",
       "      <td>Not fleeing</td>\n",
       "      <td>False</td>\n",
       "      <td>-104.692</td>\n",
       "      <td>40.384</td>\n",
       "      <td>True</td>\n",
       "    </tr>\n",
       "  </tbody>\n",
       "</table>\n",
       "</div>"
      ],
      "text/plain": [
       "   id                name        date   manner_of_death       armed   age  \\\n",
       "0   3          Tim Elliot  2015-01-02              shot         gun  53.0   \n",
       "1   4    Lewis Lee Lembke  2015-01-02              shot         gun  47.0   \n",
       "2   5  John Paul Quintero  2015-01-03  shot and Tasered     unarmed  23.0   \n",
       "3   8     Matthew Hoffman  2015-01-04              shot  toy weapon  32.0   \n",
       "4   9   Michael Rodriguez  2015-01-04              shot    nail gun  39.0   \n",
       "\n",
       "  gender race           city state  signs_of_mental_illness threat_level  \\\n",
       "0      M    A        Shelton    WA                     True       attack   \n",
       "1      M    W          Aloha    OR                    False       attack   \n",
       "2      M    H        Wichita    KS                    False        other   \n",
       "3      M    W  San Francisco    CA                     True       attack   \n",
       "4      M    H          Evans    CO                    False       attack   \n",
       "\n",
       "          flee  body_camera  longitude  latitude  is_geocoding_exact  \n",
       "0  Not fleeing        False   -123.122    47.247                True  \n",
       "1  Not fleeing        False   -122.892    45.487                True  \n",
       "2  Not fleeing        False    -97.281    37.695                True  \n",
       "3  Not fleeing        False   -122.422    37.763                True  \n",
       "4  Not fleeing        False   -104.692    40.384                True  "
      ]
     },
     "execution_count": 117,
     "metadata": {},
     "output_type": "execute_result"
    }
   ],
   "source": [
    "data = pd.read_csv('fatal-police-shootings-data.csv')\n",
    "data.head()"
   ]
  },
  {
   "cell_type": "code",
   "execution_count": 118,
   "metadata": {},
   "outputs": [
    {
     "data": {
      "text/plain": [
       "id                           int64\n",
       "name                        object\n",
       "date                        object\n",
       "manner_of_death             object\n",
       "armed                       object\n",
       "age                        float64\n",
       "gender                      object\n",
       "race                        object\n",
       "city                        object\n",
       "state                       object\n",
       "signs_of_mental_illness       bool\n",
       "threat_level                object\n",
       "flee                        object\n",
       "body_camera                   bool\n",
       "longitude                  float64\n",
       "latitude                   float64\n",
       "is_geocoding_exact            bool\n",
       "dtype: object"
      ]
     },
     "execution_count": 118,
     "metadata": {},
     "output_type": "execute_result"
    }
   ],
   "source": [
    "# dtypes will display what type of value is stored in each column.\n",
    "data.dtypes"
   ]
  },
  {
   "cell_type": "markdown",
   "metadata": {},
   "source": [
    "Here, we can see the types of values stored in each column. Some of these columns are storing variables as types that aren't very intuitive, and even potentially misleading. For example, the `id` column is currently storing integer values, but in reality, id numbers are meant to be categorical variables that act as unique identifiers. Therefore, it makes more sense to convert the `id` values to string values. Similarly, converting the `date` values to datetime format may offer more analysis options. Let's do these now!"
   ]
  },
  {
   "cell_type": "code",
   "execution_count": 119,
   "metadata": {},
   "outputs": [],
   "source": [
    "data['id'] = data['id'].astype('str')\n",
    "data['date'] = pd.to_datetime(data['date'], format='%Y-%m-%d')"
   ]
  },
  {
   "cell_type": "code",
   "execution_count": 120,
   "metadata": {},
   "outputs": [],
   "source": [
    "# We can also add features that will help our analysis! Here, I'm extracting the year from the datetime values.\n",
    "data['year'] = data['date'].dt.year"
   ]
  },
  {
   "cell_type": "code",
   "execution_count": 121,
   "metadata": {},
   "outputs": [
    {
     "data": {
      "text/plain": [
       "id                                 object\n",
       "name                               object\n",
       "date                       datetime64[ns]\n",
       "manner_of_death                    object\n",
       "armed                              object\n",
       "age                               float64\n",
       "gender                             object\n",
       "race                               object\n",
       "city                               object\n",
       "state                              object\n",
       "signs_of_mental_illness              bool\n",
       "threat_level                       object\n",
       "flee                               object\n",
       "body_camera                          bool\n",
       "longitude                         float64\n",
       "latitude                          float64\n",
       "is_geocoding_exact                   bool\n",
       "year                                int64\n",
       "dtype: object"
      ]
     },
     "execution_count": 121,
     "metadata": {},
     "output_type": "execute_result"
    }
   ],
   "source": [
    "data.dtypes"
   ]
  },
  {
   "cell_type": "markdown",
   "metadata": {},
   "source": [
    "Now that the data types are set, let's take a look at the missing values."
   ]
  },
  {
   "cell_type": "code",
   "execution_count": 122,
   "metadata": {},
   "outputs": [
    {
     "data": {
      "text/plain": [
       "id                           0\n",
       "name                       207\n",
       "date                         0\n",
       "manner_of_death              0\n",
       "armed                      212\n",
       "age                        254\n",
       "gender                       1\n",
       "race                       551\n",
       "city                         0\n",
       "state                        0\n",
       "signs_of_mental_illness      0\n",
       "threat_level                 0\n",
       "flee                       319\n",
       "body_camera                  0\n",
       "longitude                  287\n",
       "latitude                   287\n",
       "is_geocoding_exact           0\n",
       "year                         0\n",
       "dtype: int64"
      ]
     },
     "execution_count": 122,
     "metadata": {},
     "output_type": "execute_result"
    }
   ],
   "source": [
    "# isnull.sum displays the number of null values in each column.\n",
    "data.isnull().sum()"
   ]
  },
  {
   "cell_type": "markdown",
   "metadata": {},
   "source": [
    "Here, we can see how many null values each column contains. Out of these columns, **INSERT COLUMNS TO DROP HERE** are features that we don't plan to use in our analysis. Additionally, we need to remove personal data to comply with the Safe Harbour Method.\n",
    "\n",
    "Therefore, we can simply drop these columns now."
   ]
  },
  {
   "cell_type": "code",
   "execution_count": 123,
   "metadata": {},
   "outputs": [],
   "source": [
    "# dropping personal identifying information\n",
    "data.drop(['name', 'city', 'longitude', 'latitude', 'is_geocoding_exact'], axis=1, inplace=True)\n",
    "\n",
    "# dropping data we don't need for analysis\n",
    "#data.drop(['insert here'], axis=1, inplace=True)"
   ]
  },
  {
   "cell_type": "markdown",
   "metadata": {},
   "source": [
    "Unfortunately, since there are so many missing values, we can't use imputation without potentially skewing results, so we need to drop the rows that contain null values."
   ]
  },
  {
   "cell_type": "code",
   "execution_count": 124,
   "metadata": {},
   "outputs": [
    {
     "data": {
      "text/html": [
       "<div>\n",
       "<style scoped>\n",
       "    .dataframe tbody tr th:only-of-type {\n",
       "        vertical-align: middle;\n",
       "    }\n",
       "\n",
       "    .dataframe tbody tr th {\n",
       "        vertical-align: top;\n",
       "    }\n",
       "\n",
       "    .dataframe thead th {\n",
       "        text-align: right;\n",
       "    }\n",
       "</style>\n",
       "<table border=\"1\" class=\"dataframe\">\n",
       "  <thead>\n",
       "    <tr style=\"text-align: right;\">\n",
       "      <th></th>\n",
       "      <th>id</th>\n",
       "      <th>date</th>\n",
       "      <th>manner_of_death</th>\n",
       "      <th>armed</th>\n",
       "      <th>age</th>\n",
       "      <th>gender</th>\n",
       "      <th>race</th>\n",
       "      <th>state</th>\n",
       "      <th>signs_of_mental_illness</th>\n",
       "      <th>threat_level</th>\n",
       "      <th>flee</th>\n",
       "      <th>body_camera</th>\n",
       "      <th>year</th>\n",
       "    </tr>\n",
       "  </thead>\n",
       "  <tbody>\n",
       "    <tr>\n",
       "      <th>0</th>\n",
       "      <td>3</td>\n",
       "      <td>2015-01-02</td>\n",
       "      <td>shot</td>\n",
       "      <td>gun</td>\n",
       "      <td>53.0</td>\n",
       "      <td>M</td>\n",
       "      <td>A</td>\n",
       "      <td>WA</td>\n",
       "      <td>True</td>\n",
       "      <td>attack</td>\n",
       "      <td>Not fleeing</td>\n",
       "      <td>False</td>\n",
       "      <td>2015</td>\n",
       "    </tr>\n",
       "    <tr>\n",
       "      <th>1</th>\n",
       "      <td>4</td>\n",
       "      <td>2015-01-02</td>\n",
       "      <td>shot</td>\n",
       "      <td>gun</td>\n",
       "      <td>47.0</td>\n",
       "      <td>M</td>\n",
       "      <td>W</td>\n",
       "      <td>OR</td>\n",
       "      <td>False</td>\n",
       "      <td>attack</td>\n",
       "      <td>Not fleeing</td>\n",
       "      <td>False</td>\n",
       "      <td>2015</td>\n",
       "    </tr>\n",
       "    <tr>\n",
       "      <th>2</th>\n",
       "      <td>5</td>\n",
       "      <td>2015-01-03</td>\n",
       "      <td>shot and Tasered</td>\n",
       "      <td>unarmed</td>\n",
       "      <td>23.0</td>\n",
       "      <td>M</td>\n",
       "      <td>H</td>\n",
       "      <td>KS</td>\n",
       "      <td>False</td>\n",
       "      <td>other</td>\n",
       "      <td>Not fleeing</td>\n",
       "      <td>False</td>\n",
       "      <td>2015</td>\n",
       "    </tr>\n",
       "    <tr>\n",
       "      <th>3</th>\n",
       "      <td>8</td>\n",
       "      <td>2015-01-04</td>\n",
       "      <td>shot</td>\n",
       "      <td>toy weapon</td>\n",
       "      <td>32.0</td>\n",
       "      <td>M</td>\n",
       "      <td>W</td>\n",
       "      <td>CA</td>\n",
       "      <td>True</td>\n",
       "      <td>attack</td>\n",
       "      <td>Not fleeing</td>\n",
       "      <td>False</td>\n",
       "      <td>2015</td>\n",
       "    </tr>\n",
       "    <tr>\n",
       "      <th>4</th>\n",
       "      <td>9</td>\n",
       "      <td>2015-01-04</td>\n",
       "      <td>shot</td>\n",
       "      <td>nail gun</td>\n",
       "      <td>39.0</td>\n",
       "      <td>M</td>\n",
       "      <td>H</td>\n",
       "      <td>CO</td>\n",
       "      <td>False</td>\n",
       "      <td>attack</td>\n",
       "      <td>Not fleeing</td>\n",
       "      <td>False</td>\n",
       "      <td>2015</td>\n",
       "    </tr>\n",
       "  </tbody>\n",
       "</table>\n",
       "</div>"
      ],
      "text/plain": [
       "  id       date   manner_of_death       armed   age gender race state  \\\n",
       "0  3 2015-01-02              shot         gun  53.0      M    A    WA   \n",
       "1  4 2015-01-02              shot         gun  47.0      M    W    OR   \n",
       "2  5 2015-01-03  shot and Tasered     unarmed  23.0      M    H    KS   \n",
       "3  8 2015-01-04              shot  toy weapon  32.0      M    W    CA   \n",
       "4  9 2015-01-04              shot    nail gun  39.0      M    H    CO   \n",
       "\n",
       "   signs_of_mental_illness threat_level         flee  body_camera  year  \n",
       "0                     True       attack  Not fleeing        False  2015  \n",
       "1                    False       attack  Not fleeing        False  2015  \n",
       "2                    False        other  Not fleeing        False  2015  \n",
       "3                     True       attack  Not fleeing        False  2015  \n",
       "4                    False       attack  Not fleeing        False  2015  "
      ]
     },
     "execution_count": 124,
     "metadata": {},
     "output_type": "execute_result"
    }
   ],
   "source": [
    "data.dropna(inplace=True)\n",
    "data.head()"
   ]
  },
  {
   "cell_type": "code",
   "execution_count": 125,
   "metadata": {},
   "outputs": [],
   "source": [
    "# After dropping the null values, we can now set age to integer values\n",
    "data['age'] = data['age'].astype('int')"
   ]
  },
  {
   "cell_type": "markdown",
   "metadata": {},
   "source": [
    "Now that all the missing values have been dropped, let's check the unique values in each column to see if there are any abnormalities."
   ]
  },
  {
   "cell_type": "code",
   "execution_count": 126,
   "metadata": {},
   "outputs": [
    {
     "name": "stdout",
     "output_type": "stream",
     "text": [
      "id\n",
      "['3' '4' '5' ... '6400' '6411' '6410']\n",
      "\n",
      "\n",
      "date\n",
      "['2015-01-02T00:00:00.000000000' '2015-01-03T00:00:00.000000000'\n",
      " '2015-01-04T00:00:00.000000000' ... '2020-12-02T00:00:00.000000000'\n",
      " '2020-12-06T00:00:00.000000000' '2020-12-08T00:00:00.000000000']\n",
      "\n",
      "\n",
      "manner_of_death\n",
      "['shot' 'shot and Tasered']\n",
      "\n",
      "\n",
      "armed\n",
      "['gun' 'unarmed' 'toy weapon' 'nail gun' 'knife' 'shovel' 'vehicle'\n",
      " 'hammer' 'hatchet' 'sword' 'machete' 'box cutter' 'undetermined'\n",
      " 'metal object' 'screwdriver' 'lawn mower blade' 'flagpole'\n",
      " 'guns and explosives' 'cordless drill' 'metal pole' 'Taser' 'metal pipe'\n",
      " 'metal hand tool' 'blunt object' 'metal stick' 'sharp object'\n",
      " 'meat cleaver' 'carjack' 'chain' \"contractor's level\" 'unknown weapon'\n",
      " 'stapler' 'crossbow' 'bean-bag gun' 'baseball bat and fireplace poker'\n",
      " 'straight edge razor' 'gun and knife' 'ax' 'brick' 'baseball bat'\n",
      " 'hand torch' 'chain saw' 'garden tool' 'scissors' 'pole' 'pick-axe'\n",
      " 'flashlight' 'spear' 'chair' 'pitchfork' 'hatchet and gun' 'rock'\n",
      " 'piece of wood' 'bayonet' 'glass shard' 'motorcycle' 'pepper spray'\n",
      " 'metal rake' 'baton' 'crowbar' 'oar' 'machete and gun' 'air conditioner'\n",
      " 'pole and knife' 'beer bottle' 'pipe' 'baseball bat and bottle'\n",
      " 'fireworks' 'pen' 'chainsaw' 'gun and sword' 'gun and car' 'pellet gun'\n",
      " 'BB gun' 'incendiary device' 'samurai sword' 'bow and arrow'\n",
      " 'gun and vehicle' 'vehicle and gun' 'wrench' 'walking stick' 'barstool'\n",
      " 'grenade' 'BB gun and vehicle' 'wasp spray' 'air pistol'\n",
      " 'baseball bat and knife' 'vehicle and machete' 'ice pick'\n",
      " 'car, knife and mace' 'tire iron' 'bottle' 'gun and machete'\n",
      " 'Airsoft pistol']\n",
      "\n",
      "\n",
      "age\n",
      "[53 47 23 32 39 18 22 35 34 25 31 41 30 37 42 36 49 71 33 29 43 75 68 27\n",
      " 24 48 21 67 19 54 17 56 61 45 26 40 59 38 28 51 74 57 46 16 20 77 50 58\n",
      " 64 52 63 44 60 66 83 72 76 62 55 69 15 65  6 12 70 80 14 82 13 73 91 79\n",
      " 78 84 81 88]\n",
      "\n",
      "\n",
      "gender\n",
      "['M' 'F']\n",
      "\n",
      "\n",
      "race\n",
      "['A' 'W' 'H' 'B' 'O' 'N']\n",
      "\n",
      "\n",
      "state\n",
      "['WA' 'OR' 'KS' 'CA' 'CO' 'OK' 'AZ' 'IA' 'PA' 'TX' 'OH' 'LA' 'UT' 'AR'\n",
      " 'IL' 'NV' 'NM' 'VA' 'NJ' 'IN' 'MN' 'KY' 'MA' 'MO' 'NH' 'ID' 'MD' 'NE'\n",
      " 'MI' 'MT' 'GA' 'FL' 'TN' 'NC' 'AK' 'NY' 'ME' 'AL' 'MS' 'WI' 'SC' 'DC'\n",
      " 'WV' 'DE' 'HI' 'WY' 'ND' 'CT' 'SD' 'VT' 'RI']\n",
      "\n",
      "\n",
      "signs_of_mental_illness\n",
      "[ True False]\n",
      "\n",
      "\n",
      "threat_level\n",
      "['attack' 'other' 'undetermined']\n",
      "\n",
      "\n",
      "flee\n",
      "['Not fleeing' 'Car' 'Foot' 'Other']\n",
      "\n",
      "\n",
      "body_camera\n",
      "[False  True]\n",
      "\n",
      "\n",
      "year\n",
      "[2015 2016 2017 2018 2019 2020]\n",
      "\n",
      "\n"
     ]
    }
   ],
   "source": [
    "for col in data.columns:\n",
    "    print(col)\n",
    "    print(data[col].unique())\n",
    "    print('\\n')"
   ]
  },
  {
   "cell_type": "markdown",
   "metadata": {},
   "source": [
    "For these columns, the only one with duplicate values (just worded differently) is `armed`, so let's write a function that can organize its values better. Although we lose some information in individuality, by classifying these objects, we can form greater generalizations from connections with the rest of the data."
   ]
  },
  {
   "cell_type": "code",
   "execution_count": 127,
   "metadata": {},
   "outputs": [],
   "source": [
    "def clean_armed(string):\n",
    "\n",
    "    if string in ['Airsoft pistol', 'bean-bag gun', 'BB gun', 'air pistol', 'pellet gun']:\n",
    "        return 'toy weapon'\n",
    "\n",
    "    elif string in ['vehicle and gun', 'gun and car']:\n",
    "        return 'gun and vehicle'\n",
    "    \n",
    "    elif string in ['vehicle and machete', 'car, knife, and mace']:\n",
    "        return 'sharp object and vehicle'\n",
    "    \n",
    "    elif string == 'BB gun and vehicle':\n",
    "        return 'toy gun and vehicle'\n",
    "    \n",
    "    elif string in ['metal object', 'unknown weapon', 'carjack']:\n",
    "        return 'undetermined'\n",
    "    \n",
    "    elif string == 'motorcycle':\n",
    "        return 'vehicle'\n",
    "    \n",
    "    elif string in ['gun and knife', 'hatchet and gun', 'machete and gun', 'gun and sword', 'gun and machete']:\n",
    "        return 'gun and sharp object'\n",
    "    \n",
    "    elif string in ['baseball bat and fireplace poker', 'pole and knife', 'baseball bat and bottle', 'baseball bat and knife']:\n",
    "        return 'sharp and blunt weapons'\n",
    "    \n",
    "    elif string in ['Taser', 'bow and arrow', 'crossbow', 'pepper spray', 'wasp spray']:\n",
    "        return 'non-firearm ranged weapon'\n",
    "    \n",
    "    elif string in ['guns and explosives', 'hand torch', 'fireworks', 'incendiary device', 'grenade']:\n",
    "        return 'incendiary device'\n",
    "    \n",
    "    elif string in ['knife', 'hatchet', 'sword', 'machete', 'box cutter', 'screwdriver', 'lawn mower blade', 'cordless drill', 'metal hand tool', 'sharp object', 'meat cleaver',\n",
    "                   'straight edge razor', 'ax', 'chain saw', 'scissors', 'spear', 'pitchfork', 'bayonet', 'glass shard', 'metal rake', 'beer bottle', 'pen', 'chainsaw', 'samurai sword',\n",
    "                   'ice pick', 'bottle', 'nail gun', 'stapler', 'pick-axe']:\n",
    "        return 'sharp object'\n",
    "    \n",
    "    elif string in ['hammer', 'flagpole', 'metal pole', 'metal pipe', 'blunt object', 'metal stick', \"contractor's level\", 'brick', 'baseball bat', 'garden tool', 'pole',\n",
    "                    'flashlight', 'chair', 'rock', 'piece of wood', 'baton', 'crowbar', 'oar', 'pipe', 'wrench',' walking stick', 'barstool', 'tire iron', 'air conditioner']:\n",
    "        return 'blunt object'\n",
    "\n",
    "    else:\n",
    "        return string"
   ]
  },
  {
   "cell_type": "code",
   "execution_count": 128,
   "metadata": {},
   "outputs": [],
   "source": [
    "data['armed'] = data['armed'].apply(clean_armed)"
   ]
  },
  {
   "cell_type": "markdown",
   "metadata": {},
   "source": [
    "And with that, we have successfully cleaned our data!"
   ]
  },
  {
   "cell_type": "markdown",
   "metadata": {},
   "source": [
    "# Data Analysis -Wilson"
   ]
  },
  {
   "cell_type": "markdown",
   "metadata": {},
   "source": [
    "# Univariate Analysis"
   ]
  },
  {
   "cell_type": "code",
   "execution_count": 129,
   "metadata": {},
   "outputs": [
    {
     "data": {
      "text/plain": [
       "Text(0.5, 0, 'Race')"
      ]
     },
     "execution_count": 129,
     "metadata": {},
     "output_type": "execute_result"
    },
    {
     "data": {
      "image/png": "[encoded data removed]",
      "text/plain": [
       "<Figure size 432x288 with 1 Axes>"
      ]
     },
     "metadata": {
      "needs_background": "light"
     },
     "output_type": "display_data"
    }
   ],
   "source": [
    "data['race'].hist(bins=20)\n",
    "plt.title('Race Distribution of the Deaths')\n",
    "plt.ylabel('Count')\n",
    "plt.xlabel('Race')"
   ]
  },
  {
   "cell_type": "code",
   "execution_count": 130,
   "metadata": {},
   "outputs": [
    {
     "data": {
      "text/plain": [
       "Text(0.5, 0, 'Age')"
      ]
     },
     "execution_count": 130,
     "metadata": {},
     "output_type": "execute_result"
    },
    {
     "data": {
      "image/png": "[encoded data removed]",
      "text/plain": [
       "<Figure size 432x288 with 1 Axes>"
      ]
     },
     "metadata": {
      "needs_background": "light"
     },
     "output_type": "display_data"
    }
   ],
   "source": [
    "data['age'].hist()\n",
    "plt.title('Age Distribution of the Deaths')\n",
    "plt.ylabel('Count')\n",
    "plt.xlabel('Age')"
   ]
  },
  {
   "cell_type": "code",
   "execution_count": 131,
   "metadata": {},
   "outputs": [
    {
     "data": {
      "text/plain": [
       "Text(0.5, 0, 'Gender')"
      ]
     },
     "execution_count": 131,
     "metadata": {},
     "output_type": "execute_result"
    },
    {
     "data": {
      "image/png": "[encoded data removed]",
      "text/plain": [
       "<Figure size 432x288 with 1 Axes>"
      ]
     },
     "metadata": {
      "needs_background": "light"
     },
     "output_type": "display_data"
    }
   ],
   "source": [
    "data['gender'].hist(bins=3)\n",
    "plt.title('Gender Distribution of the Deaths')\n",
    "plt.ylabel('Count')\n",
    "plt.xlabel('Gender')"
   ]
  },
  {
   "cell_type": "markdown",
   "metadata": {},
   "source": [
    "# Bivariate Analysis"
   ]
  },
  {
   "cell_type": "code",
   "execution_count": 132,
   "metadata": {},
   "outputs": [],
   "source": [
    "# What is the distribution of both gender and race?"
   ]
  },
  {
   "cell_type": "code",
   "execution_count": 133,
   "metadata": {},
   "outputs": [
    {
     "data": {
      "image/png": "[encoded data removed]",
      "text/plain": [
       "<Figure size 432x288 with 3 Axes>"
      ]
     },
     "metadata": {
      "needs_background": "light"
     },
     "output_type": "display_data"
    }
   ],
   "source": [
    "from statsmodels.graphics.mosaicplot import mosaic\n",
    "mosaic(data, ['gender', 'race'],)\n",
    "plt.title('Distribution of gender and race')\n",
    "plt.show()"
   ]
  },
  {
   "cell_type": "code",
   "execution_count": 134,
   "metadata": {},
   "outputs": [],
   "source": [
    "# Compare yearly deaths."
   ]
  },
  {
   "cell_type": "code",
   "execution_count": 150,
   "metadata": {},
   "outputs": [
    {
     "data": {
      "text/plain": [
       "[\"'!' is not recognized as an internal or external command,\",\n",
       " 'operable program or batch file.']"
      ]
     },
     "execution_count": 150,
     "metadata": {},
     "output_type": "execute_result"
    }
   ],
   "source": [
    "!!! # I don't think this cell below is gun deaths, just in case it was an accident!!!"
   ]
  },
  {
   "cell_type": "code",
   "execution_count": 148,
   "metadata": {},
   "outputs": [
    {
     "data": {
      "image/png": "[encoded data removed]",
      "text/plain": [
       "<Figure size 432x288 with 1 Axes>"
      ]
     },
     "metadata": {
      "needs_background": "light"
     },
     "output_type": "display_data"
    }
   ],
   "source": [
    "data.groupby('year').count()['id'].plot.line()\n",
    "plt.title('Gun deaths by year')\n",
    "plt.ylabel('Count')\n",
    "plt.xlabel('Year')\n",
    "# Note that our 2020 data only contains date until December. So the result below may not accurate reflect the truth."
   ]
  },
  {
   "cell_type": "code",
   "execution_count": 136,
   "metadata": {},
   "outputs": [],
   "source": [
    "# Relationship between unarmed and race"
   ]
  },
  {
   "cell_type": "code",
   "execution_count": 137,
   "metadata": {},
   "outputs": [
    {
     "data": {
      "text/plain": [
       "Text(0, 0.5, 'count')"
      ]
     },
     "execution_count": 137,
     "metadata": {},
     "output_type": "execute_result"
    },
    {
     "data": {
      "image/png": "[encoded data removed]",
      "text/plain": [
       "<Figure size 432x288 with 1 Axes>"
      ]
     },
     "metadata": {
      "needs_background": "light"
     },
     "output_type": "display_data"
    }
   ],
   "source": [
    "unarmed = data[data['armed'] == 'unarmed']\n",
    "unarmed['race'].hist(bins= 20)\n",
    "plt.title('Distribution of between unarmed deaths and race')\n",
    "plt.xlabel('race')\n",
    "plt.ylabel('count')"
   ]
  },
  {
   "cell_type": "code",
   "execution_count": 138,
   "metadata": {},
   "outputs": [],
   "source": [
    "# Unarmed and not-flee"
   ]
  },
  {
   "cell_type": "code",
   "execution_count": 139,
   "metadata": {},
   "outputs": [
    {
     "data": {
      "text/plain": [
       "Text(0, 0.5, 'count')"
      ]
     },
     "execution_count": 139,
     "metadata": {},
     "output_type": "execute_result"
    },
    {
     "data": {
      "image/png": "[encoded data removed]",
      "text/plain": [
       "<Figure size 432x288 with 1 Axes>"
      ]
     },
     "metadata": {
      "needs_background": "light"
     },
     "output_type": "display_data"
    }
   ],
   "source": [
    "unarmed_unflee = unarmed[unarmed['flee']== 'Not fleeing']\n",
    "unarmed_unflee['race'].hist(bins=20)\n",
    "plt.title('Distribution of between unarmed + un-flee deaths and race')\n",
    "plt.xlabel('race')\n",
    "plt.ylabel('count')"
   ]
  },
  {
   "cell_type": "code",
   "execution_count": 140,
   "metadata": {},
   "outputs": [],
   "source": [
    "# Deaths and States"
   ]
  },
  {
   "cell_type": "code",
   "execution_count": 141,
   "metadata": {},
   "outputs": [
    {
     "data": {
      "text/plain": [
       "state\n",
       "AK     34\n",
       "AL     89\n",
       "AR     65\n",
       "AZ    212\n",
       "CA    684\n",
       "Name: id, dtype: int64"
      ]
     },
     "execution_count": 141,
     "metadata": {},
     "output_type": "execute_result"
    }
   ],
   "source": [
    "data.groupby('state').count()['id'].head()"
   ]
  },
  {
   "cell_type": "code",
   "execution_count": 142,
   "metadata": {},
   "outputs": [],
   "source": [
    "# Body camera on vs. race"
   ]
  },
  {
   "cell_type": "code",
   "execution_count": 143,
   "metadata": {},
   "outputs": [
    {
     "data": {
      "text/plain": [
       "race\n",
       "A    0.166667\n",
       "B    0.175772\n",
       "H    0.135574\n",
       "N    0.191781\n",
       "O    0.095238\n",
       "W    0.104852\n",
       "Name: id, dtype: float64"
      ]
     },
     "execution_count": 143,
     "metadata": {},
     "output_type": "execute_result"
    }
   ],
   "source": [
    "race_cam_off = data[data['body_camera']==False].groupby('race').count()['id']\n",
    "race_cam_on = data[data['body_camera']==True].groupby('race').count()['id']\n",
    "race_cam_on/(race_cam_on + race_cam_off)"
   ]
  },
  {
   "cell_type": "code",
   "execution_count": 144,
   "metadata": {},
   "outputs": [],
   "source": [
    "# Unarmed vs. race"
   ]
  },
  {
   "cell_type": "code",
   "execution_count": 145,
   "metadata": {},
   "outputs": [
    {
     "data": {
      "text/plain": [
       "race\n",
       "A    0.095238\n",
       "B    0.095012\n",
       "H    0.077636\n",
       "N    0.068493\n",
       "O    0.119048\n",
       "W    0.062500\n",
       "Name: id, dtype: float64"
      ]
     },
     "execution_count": 145,
     "metadata": {},
     "output_type": "execute_result"
    }
   ],
   "source": [
    "race_unarmed = data[data['armed']=='unarmed'].groupby('race').count()['id']\n",
    "race_armed = data[data['armed']!='unarmed'].groupby('race').count()['id']\n",
    "race_unarmed/(race_armed+race_unarmed)"
   ]
  },
  {
   "cell_type": "code",
   "execution_count": null,
   "metadata": {},
   "outputs": [],
   "source": []
  },
  {
   "cell_type": "markdown",
   "metadata": {},
   "source": [
    "02/03 when CDC declared emergency outbreak"
   ]
  },
  {
   "cell_type": "code",
   "execution_count": 146,
   "metadata": {},
   "outputs": [],
   "source": [
    "after = data[data['date']  >= '2020-02-03']\n",
    "before = data[data['date']  < '2020-02-03']"
   ]
  },
  {
   "cell_type": "markdown",
   "metadata": {},
   "source": [
    "# Results"
   ]
  },
  {
   "cell_type": "code",
   "execution_count": null,
   "metadata": {},
   "outputs": [],
   "source": []
  },
  {
   "cell_type": "markdown",
   "metadata": {},
   "source": [
    "# Ethics & Privacy"
   ]
  },
  {
   "cell_type": "code",
   "execution_count": null,
   "metadata": {},
   "outputs": [],
   "source": []
  },
  {
   "cell_type": "markdown",
   "metadata": {},
   "source": [
    "# Conclusion & Discussion"
   ]
  },
  {
   "cell_type": "code",
   "execution_count": null,
   "metadata": {},
   "outputs": [],
   "source": []
  },
  {
   "cell_type": "markdown",
   "metadata": {},
   "source": [
    "# Team Contributions"
   ]
  },
  {
   "cell_type": "code",
   "execution_count": 43,
   "metadata": {},
   "outputs": [],
   "source": [
    "# Write down what u did, in sentence/paragraph form."
   ]
  },
  {
   "cell_type": "code",
   "execution_count": null,
   "metadata": {},
   "outputs": [],
   "source": []
  }
 ],
 "metadata": {
  "kernelspec": {
   "display_name": "Python 3",
   "language": "python",
   "name": "python3"
  },
  "language_info": {
   "codemirror_mode": {
    "name": "ipython",
    "version": 3
   },
   "file_extension": ".py",
   "mimetype": "text/x-python",
   "name": "python",
   "nbconvert_exporter": "python",
   "pygments_lexer": "ipython3",
   "version": "3.7.6"
  }
 },
 "nbformat": 4,
 "nbformat_minor": 4
}
