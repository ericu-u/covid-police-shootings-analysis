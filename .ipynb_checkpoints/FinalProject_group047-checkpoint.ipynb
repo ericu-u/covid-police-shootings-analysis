{
 "cells": [
  {
   "cell_type": "markdown",
   "metadata": {},
   "source": [
    "# COGS 108 - Final Project"
   ]
  },
  {
   "cell_type": "markdown",
   "metadata": {},
   "source": [
    "# Permissions"
   ]
  },
  {
   "cell_type": "markdown",
   "metadata": {},
   "source": [
    "Place an X in the appropriate bracket below to specify if you would like your group's project to be made available to the public. (Note that PIDs will be scraped from the public submission, but student names will be included.)\n",
    "\n",
    "[X] YES - make available\n",
    "[ ] NO - keep private"
   ]
  },
  {
   "cell_type": "markdown",
   "metadata": {},
   "source": [
    "# Overview"
   ]
  },
  {
   "cell_type": "markdown",
   "metadata": {},
   "source": [
    "In this final project, our team will analyze the number of police fatal shooting events from 2015 to 2020. We want to investigate whether these events would decrease significantly due to the pandemic of COVID-19. We will be using the dataset collected by the Washington Post. After we conducted the t-tests, we confirmed that the number of shooting cases did decrease after (during) the spread of COVID-19."
   ]
  },
  {
   "cell_type": "markdown",
   "metadata": {},
   "source": [
    "# Names\n",
    "\n",
    "- Yilan Guo\n",
    "- Xueru Xie\n",
    "- Jinsong Yang\n",
    "- Zeqian Min\n",
    "- Eric Wang"
   ]
  },
  {
   "cell_type": "markdown",
   "metadata": {},
   "source": [
    "# Group Members IDs\n",
    "\n",
    "- A15563949\n",
    "- A15451232\n",
    "- A15389337\n",
    "- A15481129\n",
    "- A15545920"
   ]
  },
  {
   "cell_type": "markdown",
   "metadata": {},
   "source": [
    "# Research Question"
   ]
  },
  {
   "cell_type": "markdown",
   "metadata": {},
   "source": [
    "With the knowledge that the COVID-19 virus outbreak resulted in government regulations that changed the behaviors/routines of the average American citizen, how have police shootings (where police fatally shoot an American citizen) changed as well?\n",
    "\n",
    "Subquestions:\n",
    "- How has the distribution of weapon types, race, age, and gender among police shooting victims been affected by the Centers for Disease Control and Prevention's (CDC) emergency outbreak declaration?\n",
    "- What is the distribution of police shootings across states in the US?\n",
    "- **How has the number of police shootings been affected by the Centers for Disease Control and Prevention's (CDC) emergency outbreak declaration?**\n"
   ]
  },
  {
   "cell_type": "markdown",
   "metadata": {},
   "source": [
    "# Background and Prior Work"
   ]
  },
  {
   "cell_type": "markdown",
   "metadata": {},
   "source": [
    "We are interested in studying gun shooting events in America because we want to know how serious is this affecting many Americans. We want to know why American people keep dying under mass shootings. Specifically, we want to know where a gun shooting happens, what kind of weapons do shooters carry, and the characteristics of the shooters. It is important to know about these attributes because reports show that active shooters often share characteristics and exhibit similar behavior in the weeks and months before an attack (1). Our hypothesis is that gun shooting events should decrease after the outbreak of COVID-19 because of the stay home orders that prevent people shooting others. The article from Bloomberg confirms our prediction, since \"the number of mass shooting incidents, killings and firearm injuries all dropped as states and cities took aggressive measures to contain the virus\" (2).\n",
    "\n",
    "\n",
    "\n",
    "References (include links):\n",
    "\n",
    "1) https://qz.com/1456558/the-fbis-warning-signs-of-a-mass-shooter/ \n",
    "\n",
    "2) https://www.bloomberg.com/news/articles/2020-05-09/one-good-thing-from-the-pandemic-mass-shootings-in-u-s-plunge"
   ]
  },
  {
   "cell_type": "markdown",
   "metadata": {},
   "source": [
    "# Hypothesis"
   ]
  },
  {
   "cell_type": "markdown",
   "metadata": {},
   "source": [
    "The rate of gun shooting event in the United States has decreased since the pandemic of COVID-19 in Febuary. The cause of this decrease in gun shooting event is due to the scare of contracting COVID virus in public. As a result, we believe that with less people in the public, the number of gun shooting cases will decrease throughout the country.\n"
   ]
  },
  {
   "cell_type": "markdown",
   "metadata": {},
   "source": [
    "Null Hypothesis: The number of fatal police shooting cases is not affected by COVID-19."
   ]
  },
  {
   "cell_type": "markdown",
   "metadata": {},
   "source": [
    "Alternative Hypothesis: The number of fatal police shooting cases is decreased due to COVID-19."
   ]
  },
  {
   "cell_type": "markdown",
   "metadata": {},
   "source": [
    "# Dataset(s)"
   ]
  },
  {
   "cell_type": "markdown",
   "metadata": {},
   "source": [
    "Dataset Name:\n",
    "Link to the dataset: https://github.com/washingtonpost/data-police-shootings\n",
    "Number of observations: 5865 rows, 17 columns.\n",
    "\n",
    "Our dataset comes from the Washington Post database. This dataset contains every fatal shooting in America by the police, starting from January, 2015 to December, 2020. Each observation contains the incident ID, name of the person that is killed by the police, the date being killed, type of death, the person's weapon, age, gender race, city, state, mental illness sign, threat level, flee condition, body camera of the police, geographic location of the incident, and whether there is exact geocoding of the incident."
   ]
  },
  {
   "cell_type": "markdown",
   "metadata": {},
   "source": [
    "# Setup"
   ]
  },
  {
   "cell_type": "code",
   "execution_count": 1,
   "metadata": {},
   "outputs": [],
   "source": [
    "import pandas as pd\n",
    "import numpy as np\n",
    "import matplotlib.pyplot as plt\n",
    "import seaborn as sns\n",
    "import matplotlib.colors as colors\n",
    "from scipy import stats # t-test\n",
    "import plotly.graph_objects as go # choropleth\n",
    "from IPython.display import Image # load choropleth map image\n",
    "\n",
    "%matplotlib inline"
   ]
  },
  {
   "cell_type": "markdown",
   "metadata": {},
   "source": [
    "# Data Cleaning\n"
   ]
  },
  {
   "cell_type": "code",
   "execution_count": 2,
   "metadata": {},
   "outputs": [
    {
     "data": {
      "text/html": [
       "<div>\n",
       "<style scoped>\n",
       "    .dataframe tbody tr th:only-of-type {\n",
       "        vertical-align: middle;\n",
       "    }\n",
       "\n",
       "    .dataframe tbody tr th {\n",
       "        vertical-align: top;\n",
       "    }\n",
       "\n",
       "    .dataframe thead th {\n",
       "        text-align: right;\n",
       "    }\n",
       "</style>\n",
       "<table border=\"1\" class=\"dataframe\">\n",
       "  <thead>\n",
       "    <tr style=\"text-align: right;\">\n",
       "      <th></th>\n",
       "      <th>id</th>\n",
       "      <th>name</th>\n",
       "      <th>date</th>\n",
       "      <th>manner_of_death</th>\n",
       "      <th>armed</th>\n",
       "      <th>age</th>\n",
       "      <th>gender</th>\n",
       "      <th>race</th>\n",
       "      <th>city</th>\n",
       "      <th>state</th>\n",
       "      <th>signs_of_mental_illness</th>\n",
       "      <th>threat_level</th>\n",
       "      <th>flee</th>\n",
       "      <th>body_camera</th>\n",
       "      <th>longitude</th>\n",
       "      <th>latitude</th>\n",
       "      <th>is_geocoding_exact</th>\n",
       "    </tr>\n",
       "  </thead>\n",
       "  <tbody>\n",
       "    <tr>\n",
       "      <th>0</th>\n",
       "      <td>3</td>\n",
       "      <td>Tim Elliot</td>\n",
       "      <td>2015-01-02</td>\n",
       "      <td>shot</td>\n",
       "      <td>gun</td>\n",
       "      <td>53.0</td>\n",
       "      <td>M</td>\n",
       "      <td>A</td>\n",
       "      <td>Shelton</td>\n",
       "      <td>WA</td>\n",
       "      <td>True</td>\n",
       "      <td>attack</td>\n",
       "      <td>Not fleeing</td>\n",
       "      <td>False</td>\n",
       "      <td>-123.122</td>\n",
       "      <td>47.247</td>\n",
       "      <td>True</td>\n",
       "    </tr>\n",
       "    <tr>\n",
       "      <th>1</th>\n",
       "      <td>4</td>\n",
       "      <td>Lewis Lee Lembke</td>\n",
       "      <td>2015-01-02</td>\n",
       "      <td>shot</td>\n",
       "      <td>gun</td>\n",
       "      <td>47.0</td>\n",
       "      <td>M</td>\n",
       "      <td>W</td>\n",
       "      <td>Aloha</td>\n",
       "      <td>OR</td>\n",
       "      <td>False</td>\n",
       "      <td>attack</td>\n",
       "      <td>Not fleeing</td>\n",
       "      <td>False</td>\n",
       "      <td>-122.892</td>\n",
       "      <td>45.487</td>\n",
       "      <td>True</td>\n",
       "    </tr>\n",
       "    <tr>\n",
       "      <th>2</th>\n",
       "      <td>5</td>\n",
       "      <td>John Paul Quintero</td>\n",
       "      <td>2015-01-03</td>\n",
       "      <td>shot and Tasered</td>\n",
       "      <td>unarmed</td>\n",
       "      <td>23.0</td>\n",
       "      <td>M</td>\n",
       "      <td>H</td>\n",
       "      <td>Wichita</td>\n",
       "      <td>KS</td>\n",
       "      <td>False</td>\n",
       "      <td>other</td>\n",
       "      <td>Not fleeing</td>\n",
       "      <td>False</td>\n",
       "      <td>-97.281</td>\n",
       "      <td>37.695</td>\n",
       "      <td>True</td>\n",
       "    </tr>\n",
       "    <tr>\n",
       "      <th>3</th>\n",
       "      <td>8</td>\n",
       "      <td>Matthew Hoffman</td>\n",
       "      <td>2015-01-04</td>\n",
       "      <td>shot</td>\n",
       "      <td>toy weapon</td>\n",
       "      <td>32.0</td>\n",
       "      <td>M</td>\n",
       "      <td>W</td>\n",
       "      <td>San Francisco</td>\n",
       "      <td>CA</td>\n",
       "      <td>True</td>\n",
       "      <td>attack</td>\n",
       "      <td>Not fleeing</td>\n",
       "      <td>False</td>\n",
       "      <td>-122.422</td>\n",
       "      <td>37.763</td>\n",
       "      <td>True</td>\n",
       "    </tr>\n",
       "    <tr>\n",
       "      <th>4</th>\n",
       "      <td>9</td>\n",
       "      <td>Michael Rodriguez</td>\n",
       "      <td>2015-01-04</td>\n",
       "      <td>shot</td>\n",
       "      <td>nail gun</td>\n",
       "      <td>39.0</td>\n",
       "      <td>M</td>\n",
       "      <td>H</td>\n",
       "      <td>Evans</td>\n",
       "      <td>CO</td>\n",
       "      <td>False</td>\n",
       "      <td>attack</td>\n",
       "      <td>Not fleeing</td>\n",
       "      <td>False</td>\n",
       "      <td>-104.692</td>\n",
       "      <td>40.384</td>\n",
       "      <td>True</td>\n",
       "    </tr>\n",
       "  </tbody>\n",
       "</table>\n",
       "</div>"
      ],
      "text/plain": [
       "   id                name        date   manner_of_death       armed   age  \\\n",
       "0   3          Tim Elliot  2015-01-02              shot         gun  53.0   \n",
       "1   4    Lewis Lee Lembke  2015-01-02              shot         gun  47.0   \n",
       "2   5  John Paul Quintero  2015-01-03  shot and Tasered     unarmed  23.0   \n",
       "3   8     Matthew Hoffman  2015-01-04              shot  toy weapon  32.0   \n",
       "4   9   Michael Rodriguez  2015-01-04              shot    nail gun  39.0   \n",
       "\n",
       "  gender race           city state  signs_of_mental_illness threat_level  \\\n",
       "0      M    A        Shelton    WA                     True       attack   \n",
       "1      M    W          Aloha    OR                    False       attack   \n",
       "2      M    H        Wichita    KS                    False        other   \n",
       "3      M    W  San Francisco    CA                     True       attack   \n",
       "4      M    H          Evans    CO                    False       attack   \n",
       "\n",
       "          flee  body_camera  longitude  latitude  is_geocoding_exact  \n",
       "0  Not fleeing        False   -123.122    47.247                True  \n",
       "1  Not fleeing        False   -122.892    45.487                True  \n",
       "2  Not fleeing        False    -97.281    37.695                True  \n",
       "3  Not fleeing        False   -122.422    37.763                True  \n",
       "4  Not fleeing        False   -104.692    40.384                True  "
      ]
     },
     "execution_count": 2,
     "metadata": {},
     "output_type": "execute_result"
    }
   ],
   "source": [
    "# Load data\n",
    "data = pd.read_csv('fatal-police-shootings-data.csv')\n",
    "data.head()"
   ]
  },
  {
   "cell_type": "code",
   "execution_count": 3,
   "metadata": {},
   "outputs": [
    {
     "data": {
      "text/plain": [
       "id                           int64\n",
       "name                        object\n",
       "date                        object\n",
       "manner_of_death             object\n",
       "armed                       object\n",
       "age                        float64\n",
       "gender                      object\n",
       "race                        object\n",
       "city                        object\n",
       "state                       object\n",
       "signs_of_mental_illness       bool\n",
       "threat_level                object\n",
       "flee                        object\n",
       "body_camera                   bool\n",
       "longitude                  float64\n",
       "latitude                   float64\n",
       "is_geocoding_exact            bool\n",
       "dtype: object"
      ]
     },
     "execution_count": 3,
     "metadata": {},
     "output_type": "execute_result"
    }
   ],
   "source": [
    "# Dtypes will display what type of value is stored in each column.\n",
    "data.dtypes"
   ]
  },
  {
   "cell_type": "markdown",
   "metadata": {},
   "source": [
    "Here, we can see the types of values stored in each column. Some of these columns are storing variables as types that aren't very intuitive, and even potentially misleading. For example, the `id` column is currently storing integer values, but in reality, id numbers are meant to be categorical variables that act as unique identifiers. Therefore, it makes more sense to convert the `id` values to string values. Similarly, converting the `date` values to datetime format may offer more analysis options. Let's do these now!"
   ]
  },
  {
   "cell_type": "code",
   "execution_count": 4,
   "metadata": {},
   "outputs": [],
   "source": [
    "data['id'] = data['id'].astype('str')\n",
    "data['date'] = pd.to_datetime(data['date'], format='%Y-%m-%d')"
   ]
  },
  {
   "cell_type": "markdown",
   "metadata": {},
   "source": [
    "Using the datetime format, we can easily extract date values (such as year and month) as new features. Here, we are extracting the year and month of each incident in new columns named `year` and `month` respectively."
   ]
  },
  {
   "cell_type": "code",
   "execution_count": 5,
   "metadata": {},
   "outputs": [],
   "source": [
    "# We can also add features that will help our analysis! Here we extract the year from the datetime values.\n",
    "data['year'] = data['date'].dt.year"
   ]
  },
  {
   "cell_type": "code",
   "execution_count": 6,
   "metadata": {},
   "outputs": [],
   "source": [
    "data['month'] = data['date'].dt.month"
   ]
  },
  {
   "cell_type": "code",
   "execution_count": 7,
   "metadata": {},
   "outputs": [
    {
     "data": {
      "text/plain": [
       "id                                 object\n",
       "name                               object\n",
       "date                       datetime64[ns]\n",
       "manner_of_death                    object\n",
       "armed                              object\n",
       "age                               float64\n",
       "gender                             object\n",
       "race                               object\n",
       "city                               object\n",
       "state                              object\n",
       "signs_of_mental_illness              bool\n",
       "threat_level                       object\n",
       "flee                               object\n",
       "body_camera                          bool\n",
       "longitude                         float64\n",
       "latitude                          float64\n",
       "is_geocoding_exact                   bool\n",
       "year                                int64\n",
       "month                               int64\n",
       "dtype: object"
      ]
     },
     "execution_count": 7,
     "metadata": {},
     "output_type": "execute_result"
    }
   ],
   "source": [
    "data.dtypes"
   ]
  },
  {
   "cell_type": "markdown",
   "metadata": {},
   "source": [
    "Now that the data types are set, let's take a look at the missing values."
   ]
  },
  {
   "cell_type": "code",
   "execution_count": 8,
   "metadata": {},
   "outputs": [
    {
     "data": {
      "text/plain": [
       "id                           0\n",
       "name                       207\n",
       "date                         0\n",
       "manner_of_death              0\n",
       "armed                      212\n",
       "age                        254\n",
       "gender                       1\n",
       "race                       551\n",
       "city                         0\n",
       "state                        0\n",
       "signs_of_mental_illness      0\n",
       "threat_level                 0\n",
       "flee                       319\n",
       "body_camera                  0\n",
       "longitude                  287\n",
       "latitude                   287\n",
       "is_geocoding_exact           0\n",
       "year                         0\n",
       "month                        0\n",
       "dtype: int64"
      ]
     },
     "execution_count": 8,
     "metadata": {},
     "output_type": "execute_result"
    }
   ],
   "source": [
    "# isnull.sum displays the number of null values in each column.\n",
    "data.isnull().sum()"
   ]
  },
  {
   "cell_type": "markdown",
   "metadata": {},
   "source": [
    "Here, we can see how many null values each column contains. Out of these columns, `signs_of_mental_illness`, `threat_level`, `flee`, and `body_camera` are features that we don't plan to use in our analysis. Additionally, we need to remove personal data to comply with the Safe Harbour Method.\n",
    "\n",
    "Therefore, we can simply drop these columns now."
   ]
  },
  {
   "cell_type": "code",
   "execution_count": 9,
   "metadata": {},
   "outputs": [],
   "source": [
    "# dropping personal identifying information\n",
    "data.drop(['name', 'city', 'is_geocoding_exact'], axis=1, inplace=True)\n",
    "\n",
    "# dropping data we don't need for analysis\n",
    "data.drop(['signs_of_mental_illness', 'threat_level', 'flee', 'body_camera'], axis=1, inplace=True)"
   ]
  },
  {
   "cell_type": "markdown",
   "metadata": {},
   "source": [
    "Unfortunately, since there are so many missing values, we can't use imputation without potentially skewing results, so we need to drop the rows that contain null values."
   ]
  },
  {
   "cell_type": "code",
   "execution_count": 10,
   "metadata": {},
   "outputs": [
    {
     "data": {
      "text/html": [
       "<div>\n",
       "<style scoped>\n",
       "    .dataframe tbody tr th:only-of-type {\n",
       "        vertical-align: middle;\n",
       "    }\n",
       "\n",
       "    .dataframe tbody tr th {\n",
       "        vertical-align: top;\n",
       "    }\n",
       "\n",
       "    .dataframe thead th {\n",
       "        text-align: right;\n",
       "    }\n",
       "</style>\n",
       "<table border=\"1\" class=\"dataframe\">\n",
       "  <thead>\n",
       "    <tr style=\"text-align: right;\">\n",
       "      <th></th>\n",
       "      <th>id</th>\n",
       "      <th>date</th>\n",
       "      <th>manner_of_death</th>\n",
       "      <th>armed</th>\n",
       "      <th>age</th>\n",
       "      <th>gender</th>\n",
       "      <th>race</th>\n",
       "      <th>state</th>\n",
       "      <th>longitude</th>\n",
       "      <th>latitude</th>\n",
       "      <th>year</th>\n",
       "      <th>month</th>\n",
       "    </tr>\n",
       "  </thead>\n",
       "  <tbody>\n",
       "    <tr>\n",
       "      <th>0</th>\n",
       "      <td>3</td>\n",
       "      <td>2015-01-02</td>\n",
       "      <td>shot</td>\n",
       "      <td>gun</td>\n",
       "      <td>53.0</td>\n",
       "      <td>M</td>\n",
       "      <td>A</td>\n",
       "      <td>WA</td>\n",
       "      <td>-123.122</td>\n",
       "      <td>47.247</td>\n",
       "      <td>2015</td>\n",
       "      <td>1</td>\n",
       "    </tr>\n",
       "    <tr>\n",
       "      <th>1</th>\n",
       "      <td>4</td>\n",
       "      <td>2015-01-02</td>\n",
       "      <td>shot</td>\n",
       "      <td>gun</td>\n",
       "      <td>47.0</td>\n",
       "      <td>M</td>\n",
       "      <td>W</td>\n",
       "      <td>OR</td>\n",
       "      <td>-122.892</td>\n",
       "      <td>45.487</td>\n",
       "      <td>2015</td>\n",
       "      <td>1</td>\n",
       "    </tr>\n",
       "    <tr>\n",
       "      <th>2</th>\n",
       "      <td>5</td>\n",
       "      <td>2015-01-03</td>\n",
       "      <td>shot and Tasered</td>\n",
       "      <td>unarmed</td>\n",
       "      <td>23.0</td>\n",
       "      <td>M</td>\n",
       "      <td>H</td>\n",
       "      <td>KS</td>\n",
       "      <td>-97.281</td>\n",
       "      <td>37.695</td>\n",
       "      <td>2015</td>\n",
       "      <td>1</td>\n",
       "    </tr>\n",
       "    <tr>\n",
       "      <th>3</th>\n",
       "      <td>8</td>\n",
       "      <td>2015-01-04</td>\n",
       "      <td>shot</td>\n",
       "      <td>toy weapon</td>\n",
       "      <td>32.0</td>\n",
       "      <td>M</td>\n",
       "      <td>W</td>\n",
       "      <td>CA</td>\n",
       "      <td>-122.422</td>\n",
       "      <td>37.763</td>\n",
       "      <td>2015</td>\n",
       "      <td>1</td>\n",
       "    </tr>\n",
       "    <tr>\n",
       "      <th>4</th>\n",
       "      <td>9</td>\n",
       "      <td>2015-01-04</td>\n",
       "      <td>shot</td>\n",
       "      <td>nail gun</td>\n",
       "      <td>39.0</td>\n",
       "      <td>M</td>\n",
       "      <td>H</td>\n",
       "      <td>CO</td>\n",
       "      <td>-104.692</td>\n",
       "      <td>40.384</td>\n",
       "      <td>2015</td>\n",
       "      <td>1</td>\n",
       "    </tr>\n",
       "  </tbody>\n",
       "</table>\n",
       "</div>"
      ],
      "text/plain": [
       "  id       date   manner_of_death       armed   age gender race state  \\\n",
       "0  3 2015-01-02              shot         gun  53.0      M    A    WA   \n",
       "1  4 2015-01-02              shot         gun  47.0      M    W    OR   \n",
       "2  5 2015-01-03  shot and Tasered     unarmed  23.0      M    H    KS   \n",
       "3  8 2015-01-04              shot  toy weapon  32.0      M    W    CA   \n",
       "4  9 2015-01-04              shot    nail gun  39.0      M    H    CO   \n",
       "\n",
       "   longitude  latitude  year  month  \n",
       "0   -123.122    47.247  2015      1  \n",
       "1   -122.892    45.487  2015      1  \n",
       "2    -97.281    37.695  2015      1  \n",
       "3   -122.422    37.763  2015      1  \n",
       "4   -104.692    40.384  2015      1  "
      ]
     },
     "execution_count": 10,
     "metadata": {},
     "output_type": "execute_result"
    }
   ],
   "source": [
    "data.dropna(inplace=True)\n",
    "data.head()"
   ]
  },
  {
   "cell_type": "code",
   "execution_count": 11,
   "metadata": {},
   "outputs": [
    {
     "data": {
      "text/plain": [
       "(4787, 12)"
      ]
     },
     "execution_count": 11,
     "metadata": {},
     "output_type": "execute_result"
    }
   ],
   "source": [
    "data.shape"
   ]
  },
  {
   "cell_type": "code",
   "execution_count": 12,
   "metadata": {},
   "outputs": [],
   "source": [
    "# After dropping the null values, we can now set age to integer values\n",
    "data['age'] = data['age'].astype('int')"
   ]
  },
  {
   "cell_type": "markdown",
   "metadata": {},
   "source": [
    "Now that all the missing values have been dropped, let's check the unique values in each column to see if there are any abnormalities."
   ]
  },
  {
   "cell_type": "code",
   "execution_count": 13,
   "metadata": {},
   "outputs": [
    {
     "name": "stdout",
     "output_type": "stream",
     "text": [
      "id\n",
      "['3' '4' '5' ... '6400' '6411' '6410']\n",
      "\n",
      "\n",
      "date\n",
      "['2015-01-02T00:00:00.000000000' '2015-01-03T00:00:00.000000000'\n",
      " '2015-01-04T00:00:00.000000000' ... '2020-12-04T00:00:00.000000000'\n",
      " '2020-12-06T00:00:00.000000000' '2020-12-08T00:00:00.000000000']\n",
      "\n",
      "\n",
      "manner_of_death\n",
      "['shot' 'shot and Tasered']\n",
      "\n",
      "\n",
      "armed\n",
      "['gun' 'unarmed' 'toy weapon' 'nail gun' 'knife' 'shovel' 'vehicle'\n",
      " 'hammer' 'hatchet' 'sword' 'machete' 'box cutter' 'undetermined'\n",
      " 'metal object' 'screwdriver' 'lawn mower blade' 'flagpole'\n",
      " 'guns and explosives' 'cordless drill' 'metal pole' 'Taser' 'metal pipe'\n",
      " 'metal hand tool' 'blunt object' 'metal stick' 'sharp object'\n",
      " 'meat cleaver' 'carjack' 'chain' \"contractor's level\" 'unknown weapon'\n",
      " 'stapler' 'crossbow' 'bean-bag gun' 'baseball bat and fireplace poker'\n",
      " 'straight edge razor' 'gun and knife' 'ax' 'brick' 'baseball bat'\n",
      " 'hand torch' 'chain saw' 'garden tool' 'scissors' 'pole' 'pick-axe'\n",
      " 'flashlight' 'spear' 'chair' 'pitchfork' 'hatchet and gun' 'rock'\n",
      " 'piece of wood' 'bayonet' 'glass shard' 'motorcycle' 'pepper spray'\n",
      " 'metal rake' 'baton' 'crowbar' 'oar' 'machete and gun' 'air conditioner'\n",
      " 'pole and knife' 'beer bottle' 'pipe' 'baseball bat and bottle'\n",
      " 'fireworks' 'pen' 'chainsaw' 'gun and sword' 'gun and car' 'pellet gun'\n",
      " 'claimed to be armed' 'BB gun' 'incendiary device' 'samurai sword'\n",
      " 'bow and arrow' 'gun and vehicle' 'vehicle and gun' 'wrench'\n",
      " 'walking stick' 'barstool' 'grenade' 'BB gun and vehicle' 'wasp spray'\n",
      " 'air pistol' 'vehicle and machete' 'ice pick' 'tire iron' 'bottle'\n",
      " 'gun and machete' 'Airsoft pistol']\n",
      "\n",
      "\n",
      "age\n",
      "[53 47 23 32 39 18 22 35 34 25 31 41 30 37 42 36 49 71 33 29 43 75 68 27\n",
      " 24 48 21 67 19 54 17 56 61 45 26 40 59 38 28 51 74 57 46 16 20 77 50 58\n",
      " 64 52 63 44 60 66 83 72 76 62 55 69 15 65  6 12 70 80 14 82 13 73 91 79\n",
      " 78 84 81 88]\n",
      "\n",
      "\n",
      "gender\n",
      "['M' 'F']\n",
      "\n",
      "\n",
      "race\n",
      "['A' 'W' 'H' 'B' 'O' 'N']\n",
      "\n",
      "\n",
      "state\n",
      "['WA' 'OR' 'KS' 'CA' 'CO' 'OK' 'AZ' 'IA' 'PA' 'TX' 'OH' 'LA' 'UT' 'AR'\n",
      " 'IL' 'NV' 'NM' 'VA' 'NJ' 'IN' 'MN' 'KY' 'MA' 'MO' 'NH' 'ID' 'MD' 'NE'\n",
      " 'MI' 'MT' 'GA' 'FL' 'TN' 'NC' 'AK' 'NY' 'ME' 'AL' 'MS' 'WI' 'SC' 'DC'\n",
      " 'WV' 'DE' 'HI' 'WY' 'ND' 'CT' 'SD' 'VT' 'RI']\n",
      "\n",
      "\n",
      "longitude\n",
      "[-123.122 -122.892  -97.281 ... -117.904  -84.138  -82.32 ]\n",
      "\n",
      "\n",
      "latitude\n",
      "[47.247 45.487 37.695 ... 31.469 39.772 27.893]\n",
      "\n",
      "\n",
      "year\n",
      "[2015 2016 2017 2018 2019 2020]\n",
      "\n",
      "\n",
      "month\n",
      "[ 1  2  3  4  5  6  7  8  9 10 11 12]\n",
      "\n",
      "\n"
     ]
    }
   ],
   "source": [
    "for col in data.columns:\n",
    "    print(col)\n",
    "    print(data[col].unique())\n",
    "    print('\\n')"
   ]
  },
  {
   "cell_type": "markdown",
   "metadata": {},
   "source": [
    "For these columns, the only one with duplicate values (just worded differently) is `armed`, so let's write a function that can organize its values better. Although we lose some information in individuality, by classifying these objects, we can form greater generalizations from connections with the rest of the data."
   ]
  },
  {
   "cell_type": "code",
   "execution_count": 14,
   "metadata": {},
   "outputs": [],
   "source": [
    "def clean_armed(string):\n",
    "\n",
    "    if string in ['Airsoft pistol', 'bean-bag gun', 'BB gun', 'air pistol', 'pellet gun']:\n",
    "        return 'toy weapon'\n",
    "\n",
    "    elif string in ['vehicle and gun', 'gun and car']:\n",
    "        return 'gun and vehicle'\n",
    "    \n",
    "    elif string in ['vehicle and machete', 'car, knife, and mace']:\n",
    "        return 'sharp object and vehicle'\n",
    "    \n",
    "    elif string == 'BB gun and vehicle':\n",
    "        return 'toy gun and vehicle'\n",
    "    \n",
    "    elif string in ['metal object', 'unknown weapon', 'carjack']:\n",
    "        return 'undetermined'\n",
    "    \n",
    "    elif string == 'motorcycle':\n",
    "        return 'vehicle'\n",
    "    \n",
    "    elif string in ['gun and knife', 'hatchet and gun', 'machete and gun', 'gun and sword', 'gun and machete']:\n",
    "        return 'gun and sharp object'\n",
    "    \n",
    "    elif string in ['baseball bat and fireplace poker', 'pole and knife', 'baseball bat and bottle', 'baseball bat and knife']:\n",
    "        return 'sharp and blunt weapons'\n",
    "    \n",
    "    elif string in ['Taser', 'bow and arrow', 'crossbow', 'pepper spray', 'wasp spray']:\n",
    "        return 'non-firearm ranged weapon'\n",
    "    \n",
    "    elif string in ['guns and explosives', 'hand torch', 'fireworks', 'incendiary device', 'grenade']:\n",
    "        return 'incendiary device'\n",
    "    \n",
    "    elif string in ['knife', 'hatchet', 'sword', 'machete', 'box cutter', 'screwdriver', 'lawn mower blade', 'cordless drill', 'metal hand tool', 'sharp object', 'meat cleaver',\n",
    "                   'straight edge razor', 'ax', 'chain saw', 'scissors', 'spear', 'pitchfork', 'bayonet', 'glass shard', 'metal rake', 'beer bottle', 'pen', 'chainsaw', 'samurai sword',\n",
    "                   'ice pick', 'bottle', 'nail gun', 'stapler', 'pick-axe']:\n",
    "        return 'sharp object'\n",
    "    \n",
    "    elif string in ['hammer', 'flagpole', 'metal pole', 'metal pipe', 'blunt object', 'metal stick', \"contractor's level\", 'brick', 'baseball bat', 'garden tool', 'pole',\n",
    "                    'flashlight', 'chair', 'rock', 'piece of wood', 'baton', 'crowbar', 'oar', 'pipe', 'wrench', 'walking stick', 'barstool', 'tire iron', 'air conditioner']:\n",
    "        return 'blunt object'\n",
    "\n",
    "    else:\n",
    "        return string"
   ]
  },
  {
   "cell_type": "code",
   "execution_count": 15,
   "metadata": {},
   "outputs": [],
   "source": [
    "data['armed'] = data['armed'].apply(clean_armed)"
   ]
  },
  {
   "cell_type": "markdown",
   "metadata": {},
   "source": [
    "Now, since February 3rd is the date when the CDC declared an emergency outbreak, we can see the difference in the police shooting victim's weapon from before and after COVID-19's announcement by splitting the data from before and after February 3rd. Let's save the data from each in new dataframes called 'pre_covid' and 'covid'."
   ]
  },
  {
   "cell_type": "code",
   "execution_count": 16,
   "metadata": {},
   "outputs": [
    {
     "name": "stderr",
     "output_type": "stream",
     "text": [
      "C:\\Users\\Eric Wang\\anaconda3\\lib\\site-packages\\ipykernel_launcher.py:2: FutureWarning: The pandas.datetime class is deprecated and will be removed from pandas in a future version. Import from datetime module instead.\n",
      "  \n"
     ]
    }
   ],
   "source": [
    "# Set the split date\n",
    "split_date = pd.datetime(2020, 2, 3)\n",
    "\n",
    "pre_covid = data.loc[data['date'] <= split_date]\n",
    "covid = data.loc[data['date'] > split_date]"
   ]
  },
  {
   "cell_type": "code",
   "execution_count": 17,
   "metadata": {},
   "outputs": [
    {
     "name": "stdout",
     "output_type": "stream",
     "text": [
      "There are 4179 observations in the pre-covid dataframe.\n"
     ]
    },
    {
     "data": {
      "text/html": [
       "<div>\n",
       "<style scoped>\n",
       "    .dataframe tbody tr th:only-of-type {\n",
       "        vertical-align: middle;\n",
       "    }\n",
       "\n",
       "    .dataframe tbody tr th {\n",
       "        vertical-align: top;\n",
       "    }\n",
       "\n",
       "    .dataframe thead th {\n",
       "        text-align: right;\n",
       "    }\n",
       "</style>\n",
       "<table border=\"1\" class=\"dataframe\">\n",
       "  <thead>\n",
       "    <tr style=\"text-align: right;\">\n",
       "      <th></th>\n",
       "      <th>id</th>\n",
       "      <th>date</th>\n",
       "      <th>manner_of_death</th>\n",
       "      <th>armed</th>\n",
       "      <th>age</th>\n",
       "      <th>gender</th>\n",
       "      <th>race</th>\n",
       "      <th>state</th>\n",
       "      <th>longitude</th>\n",
       "      <th>latitude</th>\n",
       "      <th>year</th>\n",
       "      <th>month</th>\n",
       "    </tr>\n",
       "  </thead>\n",
       "  <tbody>\n",
       "    <tr>\n",
       "      <th>0</th>\n",
       "      <td>3</td>\n",
       "      <td>2015-01-02</td>\n",
       "      <td>shot</td>\n",
       "      <td>gun</td>\n",
       "      <td>53</td>\n",
       "      <td>M</td>\n",
       "      <td>A</td>\n",
       "      <td>WA</td>\n",
       "      <td>-123.122</td>\n",
       "      <td>47.247</td>\n",
       "      <td>2015</td>\n",
       "      <td>1</td>\n",
       "    </tr>\n",
       "    <tr>\n",
       "      <th>1</th>\n",
       "      <td>4</td>\n",
       "      <td>2015-01-02</td>\n",
       "      <td>shot</td>\n",
       "      <td>gun</td>\n",
       "      <td>47</td>\n",
       "      <td>M</td>\n",
       "      <td>W</td>\n",
       "      <td>OR</td>\n",
       "      <td>-122.892</td>\n",
       "      <td>45.487</td>\n",
       "      <td>2015</td>\n",
       "      <td>1</td>\n",
       "    </tr>\n",
       "    <tr>\n",
       "      <th>2</th>\n",
       "      <td>5</td>\n",
       "      <td>2015-01-03</td>\n",
       "      <td>shot and Tasered</td>\n",
       "      <td>unarmed</td>\n",
       "      <td>23</td>\n",
       "      <td>M</td>\n",
       "      <td>H</td>\n",
       "      <td>KS</td>\n",
       "      <td>-97.281</td>\n",
       "      <td>37.695</td>\n",
       "      <td>2015</td>\n",
       "      <td>1</td>\n",
       "    </tr>\n",
       "    <tr>\n",
       "      <th>3</th>\n",
       "      <td>8</td>\n",
       "      <td>2015-01-04</td>\n",
       "      <td>shot</td>\n",
       "      <td>toy weapon</td>\n",
       "      <td>32</td>\n",
       "      <td>M</td>\n",
       "      <td>W</td>\n",
       "      <td>CA</td>\n",
       "      <td>-122.422</td>\n",
       "      <td>37.763</td>\n",
       "      <td>2015</td>\n",
       "      <td>1</td>\n",
       "    </tr>\n",
       "    <tr>\n",
       "      <th>4</th>\n",
       "      <td>9</td>\n",
       "      <td>2015-01-04</td>\n",
       "      <td>shot</td>\n",
       "      <td>sharp object</td>\n",
       "      <td>39</td>\n",
       "      <td>M</td>\n",
       "      <td>H</td>\n",
       "      <td>CO</td>\n",
       "      <td>-104.692</td>\n",
       "      <td>40.384</td>\n",
       "      <td>2015</td>\n",
       "      <td>1</td>\n",
       "    </tr>\n",
       "  </tbody>\n",
       "</table>\n",
       "</div>"
      ],
      "text/plain": [
       "  id       date   manner_of_death         armed  age gender race state  \\\n",
       "0  3 2015-01-02              shot           gun   53      M    A    WA   \n",
       "1  4 2015-01-02              shot           gun   47      M    W    OR   \n",
       "2  5 2015-01-03  shot and Tasered       unarmed   23      M    H    KS   \n",
       "3  8 2015-01-04              shot    toy weapon   32      M    W    CA   \n",
       "4  9 2015-01-04              shot  sharp object   39      M    H    CO   \n",
       "\n",
       "   longitude  latitude  year  month  \n",
       "0   -123.122    47.247  2015      1  \n",
       "1   -122.892    45.487  2015      1  \n",
       "2    -97.281    37.695  2015      1  \n",
       "3   -122.422    37.763  2015      1  \n",
       "4   -104.692    40.384  2015      1  "
      ]
     },
     "execution_count": 17,
     "metadata": {},
     "output_type": "execute_result"
    }
   ],
   "source": [
    "print('There are ' + str(pre_covid.shape[0]) + ' observations in the pre-covid dataframe.')\n",
    "pre_covid.head()"
   ]
  },
  {
   "cell_type": "code",
   "execution_count": 18,
   "metadata": {},
   "outputs": [
    {
     "name": "stdout",
     "output_type": "stream",
     "text": [
      "There are 608 observations in the covid dataframe.\n"
     ]
    },
    {
     "data": {
      "text/html": [
       "<div>\n",
       "<style scoped>\n",
       "    .dataframe tbody tr th:only-of-type {\n",
       "        vertical-align: middle;\n",
       "    }\n",
       "\n",
       "    .dataframe tbody tr th {\n",
       "        vertical-align: top;\n",
       "    }\n",
       "\n",
       "    .dataframe thead th {\n",
       "        text-align: right;\n",
       "    }\n",
       "</style>\n",
       "<table border=\"1\" class=\"dataframe\">\n",
       "  <thead>\n",
       "    <tr style=\"text-align: right;\">\n",
       "      <th></th>\n",
       "      <th>id</th>\n",
       "      <th>date</th>\n",
       "      <th>manner_of_death</th>\n",
       "      <th>armed</th>\n",
       "      <th>age</th>\n",
       "      <th>gender</th>\n",
       "      <th>race</th>\n",
       "      <th>state</th>\n",
       "      <th>longitude</th>\n",
       "      <th>latitude</th>\n",
       "      <th>year</th>\n",
       "      <th>month</th>\n",
       "    </tr>\n",
       "  </thead>\n",
       "  <tbody>\n",
       "    <tr>\n",
       "      <th>5025</th>\n",
       "      <td>5513</td>\n",
       "      <td>2020-02-04</td>\n",
       "      <td>shot</td>\n",
       "      <td>sharp object</td>\n",
       "      <td>23</td>\n",
       "      <td>M</td>\n",
       "      <td>B</td>\n",
       "      <td>TX</td>\n",
       "      <td>-97.132</td>\n",
       "      <td>33.199</td>\n",
       "      <td>2020</td>\n",
       "      <td>2</td>\n",
       "    </tr>\n",
       "    <tr>\n",
       "      <th>5026</th>\n",
       "      <td>5516</td>\n",
       "      <td>2020-02-04</td>\n",
       "      <td>shot</td>\n",
       "      <td>gun</td>\n",
       "      <td>32</td>\n",
       "      <td>M</td>\n",
       "      <td>W</td>\n",
       "      <td>OK</td>\n",
       "      <td>-96.418</td>\n",
       "      <td>34.875</td>\n",
       "      <td>2020</td>\n",
       "      <td>2</td>\n",
       "    </tr>\n",
       "    <tr>\n",
       "      <th>5027</th>\n",
       "      <td>5563</td>\n",
       "      <td>2020-02-04</td>\n",
       "      <td>shot</td>\n",
       "      <td>sharp object</td>\n",
       "      <td>26</td>\n",
       "      <td>M</td>\n",
       "      <td>B</td>\n",
       "      <td>CA</td>\n",
       "      <td>-119.635</td>\n",
       "      <td>36.299</td>\n",
       "      <td>2020</td>\n",
       "      <td>2</td>\n",
       "    </tr>\n",
       "    <tr>\n",
       "      <th>5028</th>\n",
       "      <td>5564</td>\n",
       "      <td>2020-02-04</td>\n",
       "      <td>shot</td>\n",
       "      <td>sharp object</td>\n",
       "      <td>41</td>\n",
       "      <td>M</td>\n",
       "      <td>W</td>\n",
       "      <td>CA</td>\n",
       "      <td>-122.570</td>\n",
       "      <td>40.484</td>\n",
       "      <td>2020</td>\n",
       "      <td>2</td>\n",
       "    </tr>\n",
       "    <tr>\n",
       "      <th>5029</th>\n",
       "      <td>5523</td>\n",
       "      <td>2020-02-05</td>\n",
       "      <td>shot</td>\n",
       "      <td>sharp object</td>\n",
       "      <td>56</td>\n",
       "      <td>M</td>\n",
       "      <td>W</td>\n",
       "      <td>NV</td>\n",
       "      <td>-119.799</td>\n",
       "      <td>39.548</td>\n",
       "      <td>2020</td>\n",
       "      <td>2</td>\n",
       "    </tr>\n",
       "  </tbody>\n",
       "</table>\n",
       "</div>"
      ],
      "text/plain": [
       "        id       date manner_of_death         armed  age gender race state  \\\n",
       "5025  5513 2020-02-04            shot  sharp object   23      M    B    TX   \n",
       "5026  5516 2020-02-04            shot           gun   32      M    W    OK   \n",
       "5027  5563 2020-02-04            shot  sharp object   26      M    B    CA   \n",
       "5028  5564 2020-02-04            shot  sharp object   41      M    W    CA   \n",
       "5029  5523 2020-02-05            shot  sharp object   56      M    W    NV   \n",
       "\n",
       "      longitude  latitude  year  month  \n",
       "5025    -97.132    33.199  2020      2  \n",
       "5026    -96.418    34.875  2020      2  \n",
       "5027   -119.635    36.299  2020      2  \n",
       "5028   -122.570    40.484  2020      2  \n",
       "5029   -119.799    39.548  2020      2  "
      ]
     },
     "execution_count": 18,
     "metadata": {},
     "output_type": "execute_result"
    }
   ],
   "source": [
    "print('There are ' + str(covid.shape[0]) + ' observations in the covid dataframe.')\n",
    "covid.head()"
   ]
  },
  {
   "cell_type": "markdown",
   "metadata": {},
   "source": [
    "And with that, we have successfully cleaned our data!"
   ]
  },
  {
   "cell_type": "code",
   "execution_count": 19,
   "metadata": {},
   "outputs": [
    {
     "data": {
      "text/html": [
       "<div>\n",
       "<style scoped>\n",
       "    .dataframe tbody tr th:only-of-type {\n",
       "        vertical-align: middle;\n",
       "    }\n",
       "\n",
       "    .dataframe tbody tr th {\n",
       "        vertical-align: top;\n",
       "    }\n",
       "\n",
       "    .dataframe thead th {\n",
       "        text-align: right;\n",
       "    }\n",
       "</style>\n",
       "<table border=\"1\" class=\"dataframe\">\n",
       "  <thead>\n",
       "    <tr style=\"text-align: right;\">\n",
       "      <th></th>\n",
       "      <th>id</th>\n",
       "      <th>date</th>\n",
       "      <th>manner_of_death</th>\n",
       "      <th>armed</th>\n",
       "      <th>age</th>\n",
       "      <th>gender</th>\n",
       "      <th>race</th>\n",
       "      <th>state</th>\n",
       "      <th>longitude</th>\n",
       "      <th>latitude</th>\n",
       "      <th>year</th>\n",
       "      <th>month</th>\n",
       "    </tr>\n",
       "  </thead>\n",
       "  <tbody>\n",
       "    <tr>\n",
       "      <th>0</th>\n",
       "      <td>3</td>\n",
       "      <td>2015-01-02</td>\n",
       "      <td>shot</td>\n",
       "      <td>gun</td>\n",
       "      <td>53</td>\n",
       "      <td>M</td>\n",
       "      <td>A</td>\n",
       "      <td>WA</td>\n",
       "      <td>-123.122</td>\n",
       "      <td>47.247</td>\n",
       "      <td>2015</td>\n",
       "      <td>1</td>\n",
       "    </tr>\n",
       "    <tr>\n",
       "      <th>1</th>\n",
       "      <td>4</td>\n",
       "      <td>2015-01-02</td>\n",
       "      <td>shot</td>\n",
       "      <td>gun</td>\n",
       "      <td>47</td>\n",
       "      <td>M</td>\n",
       "      <td>W</td>\n",
       "      <td>OR</td>\n",
       "      <td>-122.892</td>\n",
       "      <td>45.487</td>\n",
       "      <td>2015</td>\n",
       "      <td>1</td>\n",
       "    </tr>\n",
       "    <tr>\n",
       "      <th>2</th>\n",
       "      <td>5</td>\n",
       "      <td>2015-01-03</td>\n",
       "      <td>shot and Tasered</td>\n",
       "      <td>unarmed</td>\n",
       "      <td>23</td>\n",
       "      <td>M</td>\n",
       "      <td>H</td>\n",
       "      <td>KS</td>\n",
       "      <td>-97.281</td>\n",
       "      <td>37.695</td>\n",
       "      <td>2015</td>\n",
       "      <td>1</td>\n",
       "    </tr>\n",
       "    <tr>\n",
       "      <th>3</th>\n",
       "      <td>8</td>\n",
       "      <td>2015-01-04</td>\n",
       "      <td>shot</td>\n",
       "      <td>toy weapon</td>\n",
       "      <td>32</td>\n",
       "      <td>M</td>\n",
       "      <td>W</td>\n",
       "      <td>CA</td>\n",
       "      <td>-122.422</td>\n",
       "      <td>37.763</td>\n",
       "      <td>2015</td>\n",
       "      <td>1</td>\n",
       "    </tr>\n",
       "    <tr>\n",
       "      <th>4</th>\n",
       "      <td>9</td>\n",
       "      <td>2015-01-04</td>\n",
       "      <td>shot</td>\n",
       "      <td>sharp object</td>\n",
       "      <td>39</td>\n",
       "      <td>M</td>\n",
       "      <td>H</td>\n",
       "      <td>CO</td>\n",
       "      <td>-104.692</td>\n",
       "      <td>40.384</td>\n",
       "      <td>2015</td>\n",
       "      <td>1</td>\n",
       "    </tr>\n",
       "  </tbody>\n",
       "</table>\n",
       "</div>"
      ],
      "text/plain": [
       "  id       date   manner_of_death         armed  age gender race state  \\\n",
       "0  3 2015-01-02              shot           gun   53      M    A    WA   \n",
       "1  4 2015-01-02              shot           gun   47      M    W    OR   \n",
       "2  5 2015-01-03  shot and Tasered       unarmed   23      M    H    KS   \n",
       "3  8 2015-01-04              shot    toy weapon   32      M    W    CA   \n",
       "4  9 2015-01-04              shot  sharp object   39      M    H    CO   \n",
       "\n",
       "   longitude  latitude  year  month  \n",
       "0   -123.122    47.247  2015      1  \n",
       "1   -122.892    45.487  2015      1  \n",
       "2    -97.281    37.695  2015      1  \n",
       "3   -122.422    37.763  2015      1  \n",
       "4   -104.692    40.384  2015      1  "
      ]
     },
     "execution_count": 19,
     "metadata": {},
     "output_type": "execute_result"
    }
   ],
   "source": [
    "# Cleaned data\n",
    "data.head()"
   ]
  },
  {
   "cell_type": "markdown",
   "metadata": {},
   "source": [
    "# Data Analysis"
   ]
  },
  {
   "cell_type": "markdown",
   "metadata": {},
   "source": [
    "# Univariate\n",
    "\n",
    "We want to know about the statistics of gun fatal shootings. So, we will be specifically looking for the statistics of armed gun deaths."
   ]
  },
  {
   "cell_type": "code",
   "execution_count": 20,
   "metadata": {},
   "outputs": [
    {
     "data": {
      "text/plain": [
       "Text(0.5, 0, 'Count')"
      ]
     },
     "execution_count": 20,
     "metadata": {},
     "output_type": "execute_result"
    },
    {
     "data": {
      "image/png": "[encoded data removed]",
      "text/plain": [
       "<Figure size 864x360 with 1 Axes>"
      ]
     },
     "metadata": {
      "needs_background": "light"
     },
     "output_type": "display_data"
    }
   ],
   "source": [
    "# Let's look at what kind of weapons were most common among the police shooting victims from before and after COVID-19\n",
    "\n",
    "data.groupby(['armed']).count()['id'].sort_values(ascending = True).plot.barh()\n",
    "\n",
    "fig = plt.gcf()\n",
    "fig.set_size_inches(12, 5)\n",
    "plt.title('Armed Weapon Type on Police Shooting Victims', loc='left')\n",
    "plt.ylabel('Weapon Type', rotation=0, labelpad = 60)\n",
    "plt.xlabel('Count')"
   ]
  },
  {
   "cell_type": "markdown",
   "metadata": {},
   "source": [
    "In this plot, we can see that the police shooting victims were armed with guns significantly more than other weapons or being unarmed."
   ]
  },
  {
   "cell_type": "code",
   "execution_count": 21,
   "metadata": {},
   "outputs": [
    {
     "data": {
      "image/png": "[encoded data removed]",
      "text/plain": [
       "<Figure size 864x720 with 2 Axes>"
      ]
     },
     "metadata": {
      "needs_background": "light"
     },
     "output_type": "display_data"
    }
   ],
   "source": [
    "fig, (ax, ax2) = plt.subplots(nrows=2)\n",
    "\n",
    "# We need to use percentages instead of counts because there are a different number of incidents pre-covid vs. covid.\n",
    "pre_covid_percentages = pre_covid['armed'].value_counts(ascending=True) / len(pre_covid['armed']) * 100\n",
    "covid_percentages = covid['armed'].value_counts(ascending=True) / len(covid['armed']) * 100\n",
    "\n",
    "pre_covid_percentages.plot(kind='barh', ax=ax)\n",
    "covid_percentages.plot(kind='barh', ax=ax2)\n",
    "\n",
    "fig.set_size_inches(12, 10)\n",
    "ax.set_title('Pre-Covid Weapon Type on Police Shooting Victims', loc='left')\n",
    "ax2.set_title('Covid Weapon Type on Police Shooting Victims', loc='left')\n",
    "ax.set_xlabel(\"Percentages\")\n",
    "ax2.set_xlabel(\"Percentages\")\n",
    "ax.set_ylabel(\"Weapon Type\", rotation=0)\n",
    "ax2.set_ylabel(\"Weapon Type\", rotation=0)\n",
    "ax.yaxis.labelpad = 60\n",
    "ax2.yaxis.labelpad = 60"
   ]
  },
  {
   "cell_type": "markdown",
   "metadata": {},
   "source": [
    "Here, we can see that these distributions are very similar. This indicates that weapon types on police shooting victims were the same before and after the CDC declared COVID-19 as an emergency outbreak."
   ]
  },
  {
   "cell_type": "code",
   "execution_count": 22,
   "metadata": {},
   "outputs": [
    {
     "data": {
      "text/plain": [
       "Text(0.5, 0, 'Count')"
      ]
     },
     "execution_count": 22,
     "metadata": {},
     "output_type": "execute_result"
    },
    {
     "data": {
      "image/png": "[encoded data removed]",
      "text/plain": [
       "<Figure size 864x360 with 1 Axes>"
      ]
     },
     "metadata": {
      "needs_background": "light"
     },
     "output_type": "display_data"
    }
   ],
   "source": [
    "# Let's see the race of the people being killed by the police\n",
    "\n",
    "data['race'].value_counts(ascending=True).plot.barh()\n",
    "\n",
    "fig = plt.gcf()\n",
    "fig.set_size_inches(12, 5)\n",
    "plt.title('Race Distribution of Police Shooting Victims', loc='left')\n",
    "plt.ylabel('Race', rotation=0, labelpad = 30)\n",
    "plt.xlabel('Count')"
   ]
  },
  {
   "cell_type": "markdown",
   "metadata": {},
   "source": [
    "From this bar chart of the Police Shooting victims' races, we see that there are significantly more white victims than other races, followed by black victims and hispanic victims."
   ]
  },
  {
   "cell_type": "code",
   "execution_count": 23,
   "metadata": {},
   "outputs": [
    {
     "data": {
      "image/png": "[encoded data removed]",
      "text/plain": [
       "<Figure size 720x576 with 2 Axes>"
      ]
     },
     "metadata": {
      "needs_background": "light"
     },
     "output_type": "display_data"
    }
   ],
   "source": [
    "fig, (ax, ax2) = plt.subplots(nrows=2)\n",
    "\n",
    "# We need to use percentages instead of counts because there are a different number of incidents pre-covid vs. covid.\n",
    "pre_covid_percentages = pre_covid['race'].value_counts(ascending=True) / len(pre_covid['race']) * 100\n",
    "covid_percentages = covid['race'].value_counts(ascending=True) / len(covid['race']) * 100\n",
    "\n",
    "pre_covid_percentages.plot(kind='barh', ax=ax)\n",
    "covid_percentages.plot(kind='barh', ax=ax2)\n",
    "\n",
    "fig.set_size_inches(10, 8)\n",
    "\n",
    "ax.set_title(\"Pre-Covid Race Distribution of Police Shooting Victims\", loc='left')\n",
    "ax2.set_title(\"Covid Race Distribution of Police Shooting Victims\", loc='left')\n",
    "ax.set_xlabel(\"Percentages\")\n",
    "ax2.set_xlabel(\"Percentages\")\n",
    "ax.set_ylabel(\"Race\", rotation=0)\n",
    "ax2.set_ylabel(\"Race\", rotation=0)\n",
    "ax.yaxis.labelpad = 20\n",
    "ax2.yaxis.labelpad = 20"
   ]
  },
  {
   "cell_type": "markdown",
   "metadata": {},
   "source": [
    "Similar to the Weapon Types, the distribution of races among police shooting victimes is almost identical. From this plot, it appears that there was no change in races of police shooting victims between pre-covid and during covid."
   ]
  },
  {
   "cell_type": "code",
   "execution_count": 28,
   "metadata": {},
   "outputs": [
    {
     "ename": "AttributeError",
     "evalue": "module 'seaborn' has no attribute 'histplot'",
     "output_type": "error",
     "traceback": [
      "\u001b[1;31m---------------------------------------------------------------------------\u001b[0m",
      "\u001b[1;31mAttributeError\u001b[0m                            Traceback (most recent call last)",
      "\u001b[1;32m<ipython-input-28-1bbafbde776c>\u001b[0m in \u001b[0;36m<module>\u001b[1;34m\u001b[0m\n\u001b[0;32m      1\u001b[0m \u001b[1;31m# What about their age?\u001b[0m\u001b[1;33m\u001b[0m\u001b[1;33m\u001b[0m\u001b[1;33m\u001b[0m\u001b[0m\n\u001b[0;32m      2\u001b[0m \u001b[1;33m\u001b[0m\u001b[0m\n\u001b[1;32m----> 3\u001b[1;33m \u001b[0msns\u001b[0m\u001b[1;33m.\u001b[0m\u001b[0mhistplot\u001b[0m\u001b[1;33m(\u001b[0m\u001b[0mdata\u001b[0m\u001b[1;33m=\u001b[0m\u001b[0mdata\u001b[0m\u001b[1;33m,\u001b[0m \u001b[0mx\u001b[0m\u001b[1;33m=\u001b[0m\u001b[1;34m\"age\"\u001b[0m\u001b[1;33m,\u001b[0m \u001b[0mkde\u001b[0m\u001b[1;33m=\u001b[0m\u001b[1;32mTrue\u001b[0m\u001b[1;33m)\u001b[0m\u001b[1;33m\u001b[0m\u001b[1;33m\u001b[0m\u001b[0m\n\u001b[0m\u001b[0;32m      4\u001b[0m \u001b[1;33m\u001b[0m\u001b[0m\n\u001b[0;32m      5\u001b[0m \u001b[0mfig\u001b[0m \u001b[1;33m=\u001b[0m \u001b[0mplt\u001b[0m\u001b[1;33m.\u001b[0m\u001b[0mgcf\u001b[0m\u001b[1;33m(\u001b[0m\u001b[1;33m)\u001b[0m\u001b[1;33m\u001b[0m\u001b[1;33m\u001b[0m\u001b[0m\n",
      "\u001b[1;31mAttributeError\u001b[0m: module 'seaborn' has no attribute 'histplot'"
     ]
    }
   ],
   "source": [
    "# What about their age?\n",
    "\n",
    "sns.histplot(data=data, x=\"age\", kde=True)\n",
    "\n",
    "fig = plt.gcf()\n",
    "fig.set_size_inches(8, 5)\n",
    "plt.title('Age Distribution of Police Shooting Victims', loc='left')\n",
    "plt.ylabel('Count', rotation=0, labelpad=20)\n",
    "plt.xlabel('Age')"
   ]
  },
  {
   "cell_type": "markdown",
   "metadata": {},
   "source": [
    "This histogram of Police Shooting Victim ages from both before and after COVID-19 shows a slightly right skewed distribution, peaking at around 25-35 years old. "
   ]
  },
  {
   "cell_type": "code",
   "execution_count": 29,
   "metadata": {},
   "outputs": [
    {
     "ename": "AttributeError",
     "evalue": "module 'seaborn' has no attribute 'histplot'",
     "output_type": "error",
     "traceback": [
      "\u001b[1;31m---------------------------------------------------------------------------\u001b[0m",
      "\u001b[1;31mAttributeError\u001b[0m                            Traceback (most recent call last)",
      "\u001b[1;32m<ipython-input-29-00686d7e9c3e>\u001b[0m in \u001b[0;36m<module>\u001b[1;34m\u001b[0m\n\u001b[0;32m      1\u001b[0m \u001b[0mfig\u001b[0m\u001b[1;33m,\u001b[0m \u001b[0maxes\u001b[0m \u001b[1;33m=\u001b[0m \u001b[0mplt\u001b[0m\u001b[1;33m.\u001b[0m\u001b[0msubplots\u001b[0m\u001b[1;33m(\u001b[0m\u001b[1;36m2\u001b[0m\u001b[1;33m,\u001b[0m \u001b[1;36m1\u001b[0m\u001b[1;33m)\u001b[0m\u001b[1;33m\u001b[0m\u001b[1;33m\u001b[0m\u001b[0m\n\u001b[0;32m      2\u001b[0m \u001b[0mfig\u001b[0m\u001b[1;33m.\u001b[0m\u001b[0mset_size_inches\u001b[0m\u001b[1;33m(\u001b[0m\u001b[1;36m12\u001b[0m\u001b[1;33m,\u001b[0m \u001b[1;36m10\u001b[0m\u001b[1;33m)\u001b[0m\u001b[1;33m\u001b[0m\u001b[1;33m\u001b[0m\u001b[0m\n\u001b[1;32m----> 3\u001b[1;33m \u001b[0msns\u001b[0m\u001b[1;33m.\u001b[0m\u001b[0mhistplot\u001b[0m\u001b[1;33m(\u001b[0m\u001b[0mdata\u001b[0m\u001b[1;33m=\u001b[0m\u001b[0mpre_covid\u001b[0m\u001b[1;33m,\u001b[0m \u001b[0mx\u001b[0m\u001b[1;33m=\u001b[0m\u001b[1;34m\"age\"\u001b[0m\u001b[1;33m,\u001b[0m \u001b[0mkde\u001b[0m\u001b[1;33m=\u001b[0m\u001b[1;32mTrue\u001b[0m\u001b[1;33m,\u001b[0m\u001b[0max\u001b[0m \u001b[1;33m=\u001b[0m \u001b[0maxes\u001b[0m\u001b[1;33m[\u001b[0m\u001b[1;36m0\u001b[0m\u001b[1;33m]\u001b[0m\u001b[1;33m,\u001b[0m \u001b[0mbins\u001b[0m \u001b[1;33m=\u001b[0m \u001b[1;36m25\u001b[0m\u001b[1;33m)\u001b[0m\u001b[1;33m.\u001b[0m\u001b[0;31m\\\u001b[0m\u001b[1;33m\u001b[0m\u001b[1;33m\u001b[0m\u001b[0m\n\u001b[0m\u001b[0;32m      4\u001b[0m \u001b[0mset_title\u001b[0m\u001b[1;33m(\u001b[0m\u001b[1;34m\"Age Distribution of Police Shooting Victims (Pre-Covid)\"\u001b[0m\u001b[1;33m,\u001b[0m\u001b[0mloc\u001b[0m\u001b[1;33m=\u001b[0m\u001b[1;34m'left'\u001b[0m\u001b[1;33m)\u001b[0m\u001b[1;33m\u001b[0m\u001b[1;33m\u001b[0m\u001b[0m\n\u001b[0;32m      5\u001b[0m \u001b[1;33m\u001b[0m\u001b[0m\n",
      "\u001b[1;31mAttributeError\u001b[0m: module 'seaborn' has no attribute 'histplot'"
     ]
    },
    {
     "data": {
      "image/png": "[encoded data removed]",
      "text/plain": [
       "<Figure size 864x720 with 2 Axes>"
      ]
     },
     "metadata": {
      "needs_background": "light"
     },
     "output_type": "display_data"
    }
   ],
   "source": [
    "fig, axes = plt.subplots(2, 1)\n",
    "fig.set_size_inches(12, 10)\n",
    "sns.histplot(data=pre_covid, x=\"age\", kde=True,ax = axes[0], bins = 25).\\\n",
    "set_title(\"Age Distribution of Police Shooting Victims (Pre-Covid)\",loc='left')\n",
    "\n",
    "sns.histplot(data=covid, x=\"age\", kde=True,bins = 25).\\\n",
    "set_title(\"Age Distribution of Police Shooting Victims (During-Covid)\",loc='left')\n"
   ]
  },
  {
   "cell_type": "markdown",
   "metadata": {},
   "source": [
    "In these plots, the ages of Police Shooting victims are similar. Both distributions indicate a right skew with the peak around 25-35 years old."
   ]
  },
  {
   "cell_type": "code",
   "execution_count": 30,
   "metadata": {},
   "outputs": [
    {
     "name": "stdout",
     "output_type": "stream",
     "text": [
      "95.05% of the victims are Male.\n",
      "4.95% of the victims are Female.\n"
     ]
    },
    {
     "data": {
      "image/png": "[encoded data removed]",
      "text/plain": [
       "<Figure size 432x288 with 1 Axes>"
      ]
     },
     "metadata": {
      "needs_background": "light"
     },
     "output_type": "display_data"
    }
   ],
   "source": [
    "# Gender?\n",
    "\n",
    "sns.countplot(data = data, x = 'gender', alpha = 0.9)\n",
    "\n",
    "fig = plt.gcf()\n",
    "plt.title('Gender Distribution of the Deaths (armed)', loc='left')\n",
    "plt.ylabel('Count', rotation=0, labelpad=20)\n",
    "plt.xlabel('Gender')\n",
    "\n",
    "print(\"{:.2f}\".format(data['gender'].value_counts()[0] / (data['gender'].value_counts()[0] + data['gender'].value_counts()[1]) * 100) + '% of the victims are Male.')\n",
    "print(\"{:.2f}\".format(data['gender'].value_counts()[1] / (data['gender'].value_counts()[0] + data['gender'].value_counts()[1]) * 100) + '% of the victims are Female.')"
   ]
  },
  {
   "cell_type": "markdown",
   "metadata": {},
   "source": [
    "This histogram reveals that the Police Shooting victims' genders are almost completed comprised of male victims with only 5.03% female victims. Another concern worth noting is that the dataset lacks information on non-binary gendered individuals."
   ]
  },
  {
   "cell_type": "code",
   "execution_count": 31,
   "metadata": {},
   "outputs": [
    {
     "data": {
      "text/plain": [
       "Text(0.0, 1.0, 'Gender Distribution of Police Shooting Victims (During-Covid)')"
      ]
     },
     "execution_count": 31,
     "metadata": {},
     "output_type": "execute_result"
    },
    {
     "data": {
      "image/png": "[encoded data removed]",
      "text/plain": [
       "<Figure size 864x288 with 2 Axes>"
      ]
     },
     "metadata": {
      "needs_background": "light"
     },
     "output_type": "display_data"
    }
   ],
   "source": [
    "fig, axes = plt.subplots(1, 2)\n",
    "fig.set_size_inches(12, 4)\n",
    "sns.countplot(data=pre_covid, x=\"gender\", ax = axes[0]).\\\n",
    "set_title(\"Gender Distribution of Police Shooting Victims (Pre-Covid)\",loc='left')\n",
    "\n",
    "sns.countplot(data=covid, x=\"gender\").\\\n",
    "set_title(\"Gender Distribution of Police Shooting Victims (During-Covid)\",loc='left')\n"
   ]
  },
  {
   "cell_type": "markdown",
   "metadata": {},
   "source": [
    "Since the dataset provides the state of each fatal gun shootings, let us take a look at the distribution of the location of the deaths. This choropleth map reveals three big states with the most fatal police shootings from 2015 to 2020: California, Texas, and Florida. The result is reasonable because these three places have more population in general."
   ]
  },
  {
   "cell_type": "code",
   "execution_count": 32,
   "metadata": {},
   "outputs": [],
   "source": [
    "# Choropleth map\n",
    "\n",
    "fig = go.Figure(data=go.Choropleth(locations=sorted(data.state.unique()),\n",
    "                    z=data.groupby('state').count()['id'],\n",
    "                    locationmode=\"USA-states\",\n",
    "                    colorscale='amp'))\n",
    "#fig.update_layout(title_text = '2015-2020 US Fatal Police Shootings Deaths by State', geo_scope='usa',)"
   ]
  },
  {
   "cell_type": "code",
   "execution_count": 33,
   "metadata": {},
   "outputs": [
    {
     "ename": "FileNotFoundError",
     "evalue": "[Errno 2] No such file or directory: 'newplot.png'",
     "output_type": "error",
     "traceback": [
      "\u001b[1;31m---------------------------------------------------------------------------\u001b[0m",
      "\u001b[1;31mFileNotFoundError\u001b[0m                         Traceback (most recent call last)",
      "\u001b[1;32m<ipython-input-33-b1aa432f1b95>\u001b[0m in \u001b[0;36m<module>\u001b[1;34m\u001b[0m\n\u001b[1;32m----> 1\u001b[1;33m \u001b[0mImage\u001b[0m\u001b[1;33m(\u001b[0m\u001b[0mfilename\u001b[0m\u001b[1;33m=\u001b[0m\u001b[1;34m'newplot.png'\u001b[0m\u001b[1;33m)\u001b[0m\u001b[1;33m\u001b[0m\u001b[1;33m\u001b[0m\u001b[0m\n\u001b[0m",
      "\u001b[1;32m~\\anaconda3\\lib\\site-packages\\IPython\\core\\display.py\u001b[0m in \u001b[0;36m__init__\u001b[1;34m(self, data, url, filename, format, embed, width, height, retina, unconfined, metadata)\u001b[0m\n\u001b[0;32m   1202\u001b[0m         \u001b[0mself\u001b[0m\u001b[1;33m.\u001b[0m\u001b[0munconfined\u001b[0m \u001b[1;33m=\u001b[0m \u001b[0munconfined\u001b[0m\u001b[1;33m\u001b[0m\u001b[1;33m\u001b[0m\u001b[0m\n\u001b[0;32m   1203\u001b[0m         super(Image, self).__init__(data=data, url=url, filename=filename, \n\u001b[1;32m-> 1204\u001b[1;33m                 metadata=metadata)\n\u001b[0m\u001b[0;32m   1205\u001b[0m \u001b[1;33m\u001b[0m\u001b[0m\n\u001b[0;32m   1206\u001b[0m         \u001b[1;32mif\u001b[0m \u001b[0mself\u001b[0m\u001b[1;33m.\u001b[0m\u001b[0mwidth\u001b[0m \u001b[1;32mis\u001b[0m \u001b[1;32mNone\u001b[0m \u001b[1;32mand\u001b[0m \u001b[0mself\u001b[0m\u001b[1;33m.\u001b[0m\u001b[0mmetadata\u001b[0m\u001b[1;33m.\u001b[0m\u001b[0mget\u001b[0m\u001b[1;33m(\u001b[0m\u001b[1;34m'width'\u001b[0m\u001b[1;33m,\u001b[0m \u001b[1;33m{\u001b[0m\u001b[1;33m}\u001b[0m\u001b[1;33m)\u001b[0m\u001b[1;33m:\u001b[0m\u001b[1;33m\u001b[0m\u001b[1;33m\u001b[0m\u001b[0m\n",
      "\u001b[1;32m~\\anaconda3\\lib\\site-packages\\IPython\\core\\display.py\u001b[0m in \u001b[0;36m__init__\u001b[1;34m(self, data, url, filename, metadata)\u001b[0m\n\u001b[0;32m    625\u001b[0m             \u001b[0mself\u001b[0m\u001b[1;33m.\u001b[0m\u001b[0mmetadata\u001b[0m \u001b[1;33m=\u001b[0m \u001b[1;33m{\u001b[0m\u001b[1;33m}\u001b[0m\u001b[1;33m\u001b[0m\u001b[1;33m\u001b[0m\u001b[0m\n\u001b[0;32m    626\u001b[0m \u001b[1;33m\u001b[0m\u001b[0m\n\u001b[1;32m--> 627\u001b[1;33m         \u001b[0mself\u001b[0m\u001b[1;33m.\u001b[0m\u001b[0mreload\u001b[0m\u001b[1;33m(\u001b[0m\u001b[1;33m)\u001b[0m\u001b[1;33m\u001b[0m\u001b[1;33m\u001b[0m\u001b[0m\n\u001b[0m\u001b[0;32m    628\u001b[0m         \u001b[0mself\u001b[0m\u001b[1;33m.\u001b[0m\u001b[0m_check_data\u001b[0m\u001b[1;33m(\u001b[0m\u001b[1;33m)\u001b[0m\u001b[1;33m\u001b[0m\u001b[1;33m\u001b[0m\u001b[0m\n\u001b[0;32m    629\u001b[0m \u001b[1;33m\u001b[0m\u001b[0m\n",
      "\u001b[1;32m~\\anaconda3\\lib\\site-packages\\IPython\\core\\display.py\u001b[0m in \u001b[0;36mreload\u001b[1;34m(self)\u001b[0m\n\u001b[0;32m   1233\u001b[0m         \u001b[1;34m\"\"\"Reload the raw data from file or URL.\"\"\"\u001b[0m\u001b[1;33m\u001b[0m\u001b[1;33m\u001b[0m\u001b[0m\n\u001b[0;32m   1234\u001b[0m         \u001b[1;32mif\u001b[0m \u001b[0mself\u001b[0m\u001b[1;33m.\u001b[0m\u001b[0membed\u001b[0m\u001b[1;33m:\u001b[0m\u001b[1;33m\u001b[0m\u001b[1;33m\u001b[0m\u001b[0m\n\u001b[1;32m-> 1235\u001b[1;33m             \u001b[0msuper\u001b[0m\u001b[1;33m(\u001b[0m\u001b[0mImage\u001b[0m\u001b[1;33m,\u001b[0m\u001b[0mself\u001b[0m\u001b[1;33m)\u001b[0m\u001b[1;33m.\u001b[0m\u001b[0mreload\u001b[0m\u001b[1;33m(\u001b[0m\u001b[1;33m)\u001b[0m\u001b[1;33m\u001b[0m\u001b[1;33m\u001b[0m\u001b[0m\n\u001b[0m\u001b[0;32m   1236\u001b[0m             \u001b[1;32mif\u001b[0m \u001b[0mself\u001b[0m\u001b[1;33m.\u001b[0m\u001b[0mretina\u001b[0m\u001b[1;33m:\u001b[0m\u001b[1;33m\u001b[0m\u001b[1;33m\u001b[0m\u001b[0m\n\u001b[0;32m   1237\u001b[0m                 \u001b[0mself\u001b[0m\u001b[1;33m.\u001b[0m\u001b[0m_retina_shape\u001b[0m\u001b[1;33m(\u001b[0m\u001b[1;33m)\u001b[0m\u001b[1;33m\u001b[0m\u001b[1;33m\u001b[0m\u001b[0m\n",
      "\u001b[1;32m~\\anaconda3\\lib\\site-packages\\IPython\\core\\display.py\u001b[0m in \u001b[0;36mreload\u001b[1;34m(self)\u001b[0m\n\u001b[0;32m    650\u001b[0m         \u001b[1;34m\"\"\"Reload the raw data from file or URL.\"\"\"\u001b[0m\u001b[1;33m\u001b[0m\u001b[1;33m\u001b[0m\u001b[0m\n\u001b[0;32m    651\u001b[0m         \u001b[1;32mif\u001b[0m \u001b[0mself\u001b[0m\u001b[1;33m.\u001b[0m\u001b[0mfilename\u001b[0m \u001b[1;32mis\u001b[0m \u001b[1;32mnot\u001b[0m \u001b[1;32mNone\u001b[0m\u001b[1;33m:\u001b[0m\u001b[1;33m\u001b[0m\u001b[1;33m\u001b[0m\u001b[0m\n\u001b[1;32m--> 652\u001b[1;33m             \u001b[1;32mwith\u001b[0m \u001b[0mopen\u001b[0m\u001b[1;33m(\u001b[0m\u001b[0mself\u001b[0m\u001b[1;33m.\u001b[0m\u001b[0mfilename\u001b[0m\u001b[1;33m,\u001b[0m \u001b[0mself\u001b[0m\u001b[1;33m.\u001b[0m\u001b[0m_read_flags\u001b[0m\u001b[1;33m)\u001b[0m \u001b[1;32mas\u001b[0m \u001b[0mf\u001b[0m\u001b[1;33m:\u001b[0m\u001b[1;33m\u001b[0m\u001b[1;33m\u001b[0m\u001b[0m\n\u001b[0m\u001b[0;32m    653\u001b[0m                 \u001b[0mself\u001b[0m\u001b[1;33m.\u001b[0m\u001b[0mdata\u001b[0m \u001b[1;33m=\u001b[0m \u001b[0mf\u001b[0m\u001b[1;33m.\u001b[0m\u001b[0mread\u001b[0m\u001b[1;33m(\u001b[0m\u001b[1;33m)\u001b[0m\u001b[1;33m\u001b[0m\u001b[1;33m\u001b[0m\u001b[0m\n\u001b[0;32m    654\u001b[0m         \u001b[1;32melif\u001b[0m \u001b[0mself\u001b[0m\u001b[1;33m.\u001b[0m\u001b[0murl\u001b[0m \u001b[1;32mis\u001b[0m \u001b[1;32mnot\u001b[0m \u001b[1;32mNone\u001b[0m\u001b[1;33m:\u001b[0m\u001b[1;33m\u001b[0m\u001b[1;33m\u001b[0m\u001b[0m\n",
      "\u001b[1;31mFileNotFoundError\u001b[0m: [Errno 2] No such file or directory: 'newplot.png'"
     ]
    }
   ],
   "source": [
    "Image(filename='newplot.png')"
   ]
  },
  {
   "cell_type": "code",
   "execution_count": null,
   "metadata": {},
   "outputs": [],
   "source": []
  },
  {
   "cell_type": "markdown",
   "metadata": {},
   "source": [
    "# Bivariate\n",
    "\n",
    "Next, we want to know the relationship between gun fatal shooting and time. We will be comparing the number of deaths by days and years."
   ]
  },
  {
   "cell_type": "code",
   "execution_count": null,
   "metadata": {},
   "outputs": [],
   "source": [
    "# total number \n",
    "# generate the data\n",
    "print('detailed police gun shooting cases in each year and month')\n",
    "death_pivot = data.pivot_table(\n",
    "        values=\"race\",\n",
    "        index=\"year\",\n",
    "        columns=\"month\",\n",
    "        aggfunc=\"count\"\n",
    "    )\n",
    "display(death_pivot)\n",
    "sns.countplot(data = data,x ='year',\n",
    "              palette={2015:'grey',2016:'grey',2017:'grey',2018:'grey',2019:'grey',2020:'blue'},\n",
    "             alpha = 0.8)  \n",
    "\n",
    "plt.title('Number of Gun Deaths by year')\n",
    "plt.ylabel('Count')\n",
    "plt.xlabel('year')"
   ]
  },
  {
   "cell_type": "code",
   "execution_count": null,
   "metadata": {},
   "outputs": [],
   "source": [
    "# Gun Deaths in 2015 (per month)\n",
    "data[(data['year'] == 2015)].groupby('month').count()['id'].plot.line()\n",
    "\n",
    "fig = plt.gcf()\n",
    "fig.set_size_inches(12, 5)\n",
    "plt.title('Number of Gun Deaths per Month in 2015', loc='left')\n",
    "plt.ylabel('Count', rotation=0, labelpad=20)\n",
    "plt.xlabel('Month')"
   ]
  },
  {
   "cell_type": "code",
   "execution_count": null,
   "metadata": {},
   "outputs": [],
   "source": [
    "# Gun Deaths in 2016 (per month)\n",
    "data[(data['year'] == 2016)].groupby('month').count()['id'].plot.line()\n",
    "\n",
    "fig = plt.gcf()\n",
    "fig.set_size_inches(12, 5)\n",
    "plt.title('Number of Gun Deaths per Month in 2016', loc='left')\n",
    "plt.ylabel('Count', rotation=0, labelpad=20)\n",
    "plt.xlabel('Month')"
   ]
  },
  {
   "cell_type": "code",
   "execution_count": null,
   "metadata": {},
   "outputs": [],
   "source": [
    "# Gun Deaths in 2017 (per month)\n",
    "data[(data['year'] == 2017)].groupby('month').count()['id'].plot.line()\n",
    "\n",
    "fig = plt.gcf()\n",
    "fig.set_size_inches(12, 5)\n",
    "plt.title('Number of Gun Deaths per Month in 2017', loc='left')\n",
    "plt.ylabel('Count', rotation=0, labelpad=20)\n",
    "plt.xlabel('Month')"
   ]
  },
  {
   "cell_type": "code",
   "execution_count": null,
   "metadata": {},
   "outputs": [],
   "source": [
    "# Gun Deaths in 2018 (per month)\n",
    "data[(data['year'] == 2018)].groupby('month').count()['id'].plot.line()\n",
    "\n",
    "fig = plt.gcf()\n",
    "fig.set_size_inches(12, 5)\n",
    "plt.title('Number of Gun Deaths per Month in 2018', loc='left')\n",
    "plt.ylabel('Count', rotation=0, labelpad=20)\n",
    "plt.xlabel('Month')"
   ]
  },
  {
   "cell_type": "code",
   "execution_count": null,
   "metadata": {},
   "outputs": [],
   "source": [
    "# Gun Deaths in 2019 (per month)\n",
    "data[(data['year'] == 2019)].groupby('month').count()['id'].plot.line()\n",
    "\n",
    "fig = plt.gcf()\n",
    "fig.set_size_inches(12, 5)\n",
    "plt.title('Number of Gun Deaths per Month in 2019', loc='left')\n",
    "plt.ylabel('Count', rotation=0, labelpad=20)\n",
    "plt.xlabel('Month')"
   ]
  },
  {
   "cell_type": "code",
   "execution_count": null,
   "metadata": {},
   "outputs": [],
   "source": [
    "# Gun Deaths in 2020 (per month)\n",
    "data[(data['year'] == 2020)].groupby('month').count()['id'].plot.line()\n",
    "\n",
    "fig = plt.gcf()\n",
    "fig.set_size_inches(12, 5)\n",
    "plt.title('Number of Gun Deaths per Month in 2020', loc='left')\n",
    "plt.ylabel('Count', rotation=0, labelpad=20)\n",
    "plt.xlabel('Month')"
   ]
  },
  {
   "cell_type": "code",
   "execution_count": null,
   "metadata": {},
   "outputs": [],
   "source": [
    "# Gun Deaths vs. years 2015-2020\n",
    "fig,ax = plt.subplots(figsize=(14, 6))\n",
    "sns.lineplot(data = death_pivot.T[2015], color = 'grey')\n",
    "sns.lineplot(data = death_pivot.T[2016], color = 'grey')\n",
    "sns.lineplot(data = death_pivot.T[2017], color = 'grey')\n",
    "sns.lineplot(data = death_pivot.T[2018], color = 'grey')\n",
    "sns.lineplot(data = death_pivot.T[2019], color = 'grey')\n",
    "sns.lineplot(data = death_pivot.T[2020], color = 'red')\n",
    "plt.title('Number of Gun Deaths vs. years from 2015-2020')\n",
    "plt.legend(labels=['', '', '','','','2020'])\n",
    "ax.set(xlim=(1, 12))\n",
    "plt.ylabel('Count')\n",
    "plt.xlabel('Month')"
   ]
  },
  {
   "cell_type": "code",
   "execution_count": null,
   "metadata": {},
   "outputs": [],
   "source": [
    "# Gun Deaths in 5 years (per month)\n",
    "data.groupby(['year','month']).count()['id'].plot.line()\n",
    "\n",
    "fig = plt.gcf()\n",
    "fig.set_size_inches(12, 5)\n",
    "plt.title('Number of Gun Deaths per Month in the last 5 years', loc='left')\n",
    "plt.ylabel('Count', rotation=0, labelpad=20)\n",
    "plt.xlabel('Year, Month')"
   ]
  },
  {
   "cell_type": "markdown",
   "metadata": {},
   "source": [
    "The line chart above shows the time series of the number of gun deaths. We will use bar charts to show the comparisons between months below."
   ]
  },
  {
   "cell_type": "code",
   "execution_count": null,
   "metadata": {},
   "outputs": [],
   "source": [
    "t15 = data[data['year'] == 2015].groupby('month').count()['id'].values\n",
    "t16 = data[data['year'] == 2016].groupby('month').count()['id'].values\n",
    "t17 = data[data['year'] == 2017].groupby('month').count()['id'].values\n",
    "t18 = data[data['year'] == 2018].groupby('month').count()['id'].values\n",
    "t19 = data[data['year'] == 2019].groupby('month').count()['id'].values\n",
    "t20 = data[data['year'] == 2020].groupby('month').count()['id'].values"
   ]
  },
  {
   "cell_type": "code",
   "execution_count": null,
   "metadata": {},
   "outputs": [],
   "source": [
    "plt.figure(figsize=(14, 6))\n",
    "\n",
    "sns.countplot(x=\"month\", hue=\"year\", data=data,alpha = 0.95)\n",
    "plt.title('Comparison of gun deaths by months and years')\n",
    "plt.ylabel('Count')\n",
    "plt.xlabel('Month')\n"
   ]
  },
  {
   "cell_type": "markdown",
   "metadata": {},
   "source": [
    "As we can see, the months in 2020 (shown in color brown) has slight decreases in the number of deaths for the most part. For the next part, we will be using a statistical method called t-test to further validate our generalization."
   ]
  },
  {
   "cell_type": "markdown",
   "metadata": {},
   "source": [
    "# Test"
   ]
  },
  {
   "cell_type": "markdown",
   "metadata": {},
   "source": [
    "Our t-test will compare the data from 2015-2019 with 2020. In order to output a solid conclusion, we will use two settings to compare the data: months and days. Let us start with monthly comparison using t-test."
   ]
  },
  {
   "cell_type": "markdown",
   "metadata": {},
   "source": [
    "# Month\n",
    "We will use t-test to compare the monthly statistics in 2020 vs. the mean of the past 5 years monthly statistics.\n",
    "\n",
    "Since 02/03 is the date when CDC declares emergency outbreak. We will exclude month of January in our t-test. We will also exclude month of December because December of 2020 is still on going."
   ]
  },
  {
   "cell_type": "code",
   "execution_count": null,
   "metadata": {},
   "outputs": [],
   "source": [
    "# t-test\n",
    "combined_mean = (t15+t16+t17+t18+t19)/5\n",
    "results = stats.ttest_ind(t20[1:-1], combined_mean[1:-1])\n",
    "\n",
    "print(results)\n",
    "print('P-Value: ', results[1])"
   ]
  },
  {
   "cell_type": "code",
   "execution_count": null,
   "metadata": {},
   "outputs": [],
   "source": []
  },
  {
   "cell_type": "markdown",
   "metadata": {},
   "source": [
    "# Day\n",
    "02/03 is the date when CDC declares emergency outbreak. We will use this date as a threshold to determine whether COVID affects the number of gun deaths per days. \n",
    "\n",
    "We will be using a regression model to predict the gun death numbers after 02/03. In order to make our data consisten, will only use the data from 02/03 to 12/03 for each year. The predicted result will be our expected number of gun deaths. Then we will use our actual numbers to compare with the expected numbers using T-test. Our training set would be the daily number of deaths from 2015 to 2019. Our testing set would be the daily number of deaths in 2020."
   ]
  },
  {
   "cell_type": "code",
   "execution_count": null,
   "metadata": {},
   "outputs": [],
   "source": [
    "# Save the data into a DataFrame\n",
    "df = pd.DataFrame()\n",
    "df['Date'] = data.groupby('date').count()['id'].index.values \n",
    "df['Number of gun deaths'] = data.groupby('date').count()['id'].values \n",
    "df.head()"
   ]
  },
  {
   "cell_type": "code",
   "execution_count": null,
   "metadata": {},
   "outputs": [],
   "source": [
    "t015 = df[(df['Date'] >= '2015-02-03') & (df['Date'] < '2015-12-03')]\n",
    "t016 = df[(df['Date'] >= '2016-02-03') & (df['Date'] < '2016-12-03')]\n",
    "t017 = df[(df['Date'] >= '2017-02-03') & (df['Date'] < '2017-12-03')]\n",
    "t018 = df[(df['Date'] >= '2018-02-03') & (df['Date'] < '2018-12-03')]\n",
    "t019 = df[(df['Date'] >= '2019-02-03') & (df['Date'] < '2019-12-03')]\n",
    "t020 = df[(df['Date'] >= '2020-02-03') & (df['Date'] < '2020-12-03')]\n",
    "t019.head()"
   ]
  },
  {
   "cell_type": "code",
   "execution_count": null,
   "metadata": {},
   "outputs": [],
   "source": [
    "# Fill in missing dates with 0\n",
    "\n",
    "idx = pd.date_range('2015-02-03', '2015-12-03')\n",
    "for i in idx:\n",
    "    if (len(t015[t015['Date'] == i])==0):\n",
    "        t015 = t015.append({'Date': i, 'Number of gun deaths': 0}, ignore_index= True)\n",
    "t015 = t015.sort_values('Date')\n",
    "\n",
    "idx = pd.date_range('2016-02-03', '2016-12-03')\n",
    "for i in idx:\n",
    "    if (len(t016[t016['Date'] == i])==0):\n",
    "        t016 = t016.append({'Date': i, 'Number of gun deaths': 0}, ignore_index= True)\n",
    "t016 = t016.sort_values('Date')\n",
    "\n",
    "idx = pd.date_range('2017-02-03', '2017-12-03')\n",
    "for i in idx:\n",
    "    if (len(t017[t017['Date'] == i])==0):\n",
    "        t017 = t017.append({'Date': i, 'Number of gun deaths': 0}, ignore_index= True)\n",
    "t017 = t017.sort_values('Date')\n",
    "\n",
    "idx = pd.date_range('2018-02-03', '2018-12-03')\n",
    "for i in idx:\n",
    "    if (len(t018[t018['Date'] == i])==0):\n",
    "        t018 = t018.append({'Date': i, 'Number of gun deaths': 0}, ignore_index= True)\n",
    "t018 = t018.sort_values('Date')\n",
    "\n",
    "idx = pd.date_range('2019-02-03', '2019-12-03')\n",
    "for i in idx:\n",
    "    if (len(t019[t019['Date'] == i])==0):\n",
    "        t019 = t019.append({'Date': i, 'Number of gun deaths': 0}, ignore_index= True)\n",
    "t019 = t019.sort_values('Date')\n",
    "\n",
    "idx = pd.date_range('2020-02-03', '2020-12-03')\n",
    "for i in idx:\n",
    "    if (len(t020[t020['Date'] == i])==0):\n",
    "        t020 = t020.append({'Date': i, 'Number of gun deaths': 0}, ignore_index= True)\n",
    "t020 = t020.sort_values('Date')"
   ]
  },
  {
   "cell_type": "code",
   "execution_count": null,
   "metadata": {},
   "outputs": [],
   "source": [
    "ms, m1s, bs = [],[],[]\n",
    "\n",
    "for table in [t015,t016,t017,t018,t019]:\n",
    "\n",
    "    x15,y15 = np.array(range(len(table.index.values))),table['Number of gun deaths']\n",
    "    m, m1, b = np.polyfit(x15, y15, 2)\n",
    "    ms.append(m)\n",
    "    m1s.append(m1)\n",
    "    bs.append(b)\n",
    "    plt.figure(figsize=(25,10))\n",
    "    plt.plot(x15, y15)\n",
    "    plt.plot(x15, m*pow(x15, 2) + m1*y15 + b, color='red')\n",
    "    plt.ylabel('Death Count', fontsize=20)\n",
    "    plt.xlabel('Month', fontsize=20)\n",
    "    plt.title('2nd RegLine of deaths for different months', fontsize=24, y=1.01)"
   ]
  },
  {
   "cell_type": "code",
   "execution_count": null,
   "metadata": {},
   "outputs": [],
   "source": [
    "m20, m120, b20 = np.mean(ms), np.mean(m1s), np.mean(bs)"
   ]
  },
  {
   "cell_type": "code",
   "execution_count": null,
   "metadata": {},
   "outputs": [],
   "source": [
    "expected_2020 = np.round(m20*pow(np.array(range(len(t020.index.values))), 2) + m120*np.array(range(len(t020.index.values))) + b20).astype('int64')\n",
    "expected_2020"
   ]
  },
  {
   "cell_type": "code",
   "execution_count": null,
   "metadata": {},
   "outputs": [],
   "source": [
    "observed_2020 = t020['Number of gun deaths'].values\n",
    "observed_2020"
   ]
  },
  {
   "cell_type": "code",
   "execution_count": null,
   "metadata": {},
   "outputs": [],
   "source": [
    "results = stats.ttest_ind(observed_2020, expected_2020)\n",
    "\n",
    "print(results)\n",
    "print('P-Value: ', results[1])"
   ]
  },
  {
   "cell_type": "markdown",
   "metadata": {},
   "source": [
    "# Results"
   ]
  },
  {
   "cell_type": "markdown",
   "metadata": {},
   "source": [
    "Our result shows that the p-value is less than 0.05 which indicates that the decrease in crime rate between observed data and actual data did not occur by random chance. As a result, we will reject our null hypothesis. Based on prior background knowledge, it was not a surprise that the gun shooting events would go down since the pandemic which we can see from previously plotted charts. Overall, our result shows that there is correlation between gun shooting event frequency and COVID-19 pandemic."
   ]
  },
  {
   "cell_type": "markdown",
   "metadata": {},
   "source": [
    "# Ethics & Privacy"
   ]
  },
  {
   "cell_type": "markdown",
   "metadata": {},
   "source": [
    "The datasets is assembled by Github users from The Washington Post and published on Github. It is updated regularly as fatal shootings are reported and as facts emerge about individual cases. Since they are posted publicly on Github, we could assume that the publishers are aware of others' usage. However, it is extremely hard to get informed consent from each subject, especially for shooting cases in the data collection process. The dataset comes from The Washington Post, which is one of the largest newspaper publisher; thus we trust that dataset would carefully reflect and record each fetal case. Also, the size of the datasets is large enough (above 4000 observations) for us to make a scientific and reliable conclusion, enabling this to be replicable in the future.\n",
    "\n",
    "\n",
    "To ensure privacy is well protected, we minimize exposure of personally identifiable information (PII) and protect the subjects from potential unintended consequences (In this project, particularly, we drop name and city variables). We need to reach out to the dataset publisher to 1) obtain his/her permission to use the dataset, 2) the subjects are aware of study, and 3) ensure that the dataset’s reliability and the data. Also, during the project, each of us should remind ourselves that each observation represents a single human being, and we have to conduct our project in an ethical and equitable manner to further limit the potential bias. By following those above, we could confirm that our project is conducted within ethical guidelines.\n",
    "\n"
   ]
  },
  {
   "cell_type": "markdown",
   "metadata": {},
   "source": [
    "# Conclusion & Discussion"
   ]
  },
  {
   "cell_type": "markdown",
   "metadata": {},
   "source": [
    "In conclusion, with the pandemic of COVID-19, American police fatal shootings did decrease. However, the pandemic of COVID-19 did not affect the race and age distributions of the police shooting victims, as well as the weapon type that the police shooting victims had.\n",
    "\n",
    "Our analysis was limited because we did not have enough data after the spread of COVID-19. We had large number of data before COVID-19, but we lacked the data after COVID-19 since it only occurred for almost a year in the U.S.. Another limitation that we had was finding the causality between COVID-19 and the number of police shooting cases. Altough we had proven that the cases did decrease after COVID-19, we were still unsure of whether COVID-19 was the (only) factor that was behind this drop.\n",
    "\n",
    "This project would still be applicable in the future because COVID-19 is still ongoing and the number of police shooting events will increase in America. We would like to review this project again when COVID-19 is gone and update our data to test our hypothesis once again."
   ]
  },
  {
   "cell_type": "markdown",
   "metadata": {},
   "source": [
    "# Team Contributions"
   ]
  },
  {
   "cell_type": "markdown",
   "metadata": {},
   "source": [
    "Eric Wang: Research Question, Data Cleaning, Univariate Analysis, Data Visualizations.\n",
    "\n",
    "Jinsong Yang: Hypothesis, Results, T-tests.\n",
    "\n",
    "Xueru Xie: Background and Prior Work, Univariate & Bivariate Analysis.\n",
    "\n",
    "Yilan Guo: Dataset, Ethics & Privacy, Data Visualizations.\n",
    "\n",
    "Zeqian Min: Overview, Conclusion & Discussion.\n"
   ]
  },
  {
   "cell_type": "code",
   "execution_count": null,
   "metadata": {},
   "outputs": [],
   "source": []
  },
  {
   "cell_type": "code",
   "execution_count": null,
   "metadata": {},
   "outputs": [],
   "source": []
  }
 ],
 "metadata": {
  "kernelspec": {
   "display_name": "Python 3",
   "language": "python",
   "name": "python3"
  },
  "language_info": {
   "codemirror_mode": {
    "name": "ipython",
    "version": 3
   },
   "file_extension": ".py",
   "mimetype": "text/x-python",
   "name": "python",
   "nbconvert_exporter": "python",
   "pygments_lexer": "ipython3",
   "version": "3.7.6"
  }
 },
 "nbformat": 4,
 "nbformat_minor": 4
}
