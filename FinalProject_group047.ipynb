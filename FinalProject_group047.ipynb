{
 "cells": [
  {
   "cell_type": "markdown",
   "metadata": {},
   "source": [
    "# COGS 108 - Final Project"
   ]
  },
  {
   "cell_type": "markdown",
   "metadata": {},
   "source": [
    "# Permissions"
   ]
  },
  {
   "cell_type": "markdown",
   "metadata": {},
   "source": [
    "Place an X in the appropriate bracket below to specify if you would like your group's project to be made available to the public. (Note that PIDs will be scraped from the public submission, but student names will be included.)\n",
    "\n",
    "[X] YES - make available\n",
    "[ ] NO - keep private"
   ]
  },
  {
   "cell_type": "markdown",
   "metadata": {},
   "source": [
    "# Overview"
   ]
  },
  {
   "cell_type": "code",
   "execution_count": 39,
   "metadata": {},
   "outputs": [],
   "source": [
    "# FINAL RESULT (SUMMARY) -Wilson"
   ]
  },
  {
   "cell_type": "markdown",
   "metadata": {},
   "source": [
    "# Names\n",
    "\n",
    "- Yilan Guo\n",
    "- Xueru Xie\n",
    "- Jinsong Yang\n",
    "- Zeqian Min\n",
    "- Eric Wang"
   ]
  },
  {
   "cell_type": "markdown",
   "metadata": {},
   "source": [
    "# Group Members IDs\n",
    "\n",
    "- A15563949\n",
    "- A15451232\n",
    "- A15389337\n",
    "- A15481129\n",
    "- A15545920"
   ]
  },
  {
   "cell_type": "markdown",
   "metadata": {},
   "source": [
    "# Research Question"
   ]
  },
  {
   "cell_type": "code",
   "execution_count": 44,
   "metadata": {},
   "outputs": [],
   "source": [
    "# Our question was not good."
   ]
  },
  {
   "cell_type": "markdown",
   "metadata": {},
   "source": [
    "# Background and Prior Work\n",
    "# If our research question is not about race, delete second paragraph."
   ]
  },
  {
   "cell_type": "markdown",
   "metadata": {},
   "source": [
    "We are interested in studying gun shooting events in America because we want to know how serious is this affecting many Americans. We want to know why American people keep dying under mass shootings. Specifically, we want to know how a gun shooting happens, why a gun shooting happens, and who a gun shooting targets. Our first hypothesis is that gun shooting events should decrease after the outbreak of COVID-19 because of the stay home orders that prevent people shooting others. The article from Bloogberg confirms our prediction, since \"the number of mass shooting incidents, killings and firearm injuries all dropped as states and cities took aggressive measures to contain the virus\" (2).\n",
    "\n",
    "Besides looking for the gun shooting rate between pre-COVID and post-COVID, we also want to know about the correlation between gun violence and race because we want to know whether a certain race is being discriminated by the police force. CNN has done a research on the similar topic, showing a chart of how black Americans has more firarm homicide death rate than white Americans (1). We want to know whether there is a similar trend between the race and the police when it comes to police shooting.\n",
    "\n",
    "References (include links):\n",
    "\n",
    "1) https://www.cnn.com/2018/04/23/health/gun-deaths-in-men-by-state-study/index.html\n",
    "2) https://www.bloomberg.com/news/articles/2020-05-09/one-good-thing-from-the-pandemic-mass-shootings-in-u-s-plunge"
   ]
  },
  {
   "cell_type": "markdown",
   "metadata": {},
   "source": [
    "# Hypothesis"
   ]
  },
  {
   "cell_type": "code",
   "execution_count": 42,
   "metadata": {},
   "outputs": [],
   "source": [
    "# Not good enough -Vacant"
   ]
  },
  {
   "cell_type": "markdown",
   "metadata": {},
   "source": [
    "# Dataset(s)"
   ]
  },
  {
   "cell_type": "markdown",
   "metadata": {},
   "source": [
    "Dataset Name:\n",
    "Link to the dataset: https://github.com/washingtonpost/data-police-shootings\n",
    "Number of observations: 5865 rows, 17 columns\n",
    "1-2 sentences describing each dataset.\n",
    "\n",
    "Our dataset comes from the Washington Post database. This dataset contains every fatal shooting in America by the police, starting from January, 2015 to December, 2020. Each observation contains the incident ID, name of the person that is killed by the police, the date being killed, type of death, the person's weapon, age, gender race, city, state, mental illness sign, threat level, flee condition, body camera of the police, geographic location of the incident, and whether there is exact geocoding of the incident."
   ]
  },
  {
   "cell_type": "markdown",
   "metadata": {},
   "source": [
    "# Setup"
   ]
  },
  {
   "cell_type": "code",
   "execution_count": 1,
   "metadata": {},
   "outputs": [],
   "source": [
    "import pandas as pd\n",
    "import numpy as np\n",
    "import matplotlib.pyplot as plt\n",
    "import seaborn as sns\n",
    "%matplotlib inline"
   ]
  },
  {
   "cell_type": "markdown",
   "metadata": {},
   "source": [
    "# Data Cleaning\n"
   ]
  },
  {
   "cell_type": "code",
   "execution_count": 21,
   "metadata": {},
   "outputs": [
    {
     "data": {
      "text/html": [
       "<div>\n",
       "<style scoped>\n",
       "    .dataframe tbody tr th:only-of-type {\n",
       "        vertical-align: middle;\n",
       "    }\n",
       "\n",
       "    .dataframe tbody tr th {\n",
       "        vertical-align: top;\n",
       "    }\n",
       "\n",
       "    .dataframe thead th {\n",
       "        text-align: right;\n",
       "    }\n",
       "</style>\n",
       "<table border=\"1\" class=\"dataframe\">\n",
       "  <thead>\n",
       "    <tr style=\"text-align: right;\">\n",
       "      <th></th>\n",
       "      <th>id</th>\n",
       "      <th>name</th>\n",
       "      <th>date</th>\n",
       "      <th>manner_of_death</th>\n",
       "      <th>armed</th>\n",
       "      <th>age</th>\n",
       "      <th>gender</th>\n",
       "      <th>race</th>\n",
       "      <th>city</th>\n",
       "      <th>state</th>\n",
       "      <th>signs_of_mental_illness</th>\n",
       "      <th>threat_level</th>\n",
       "      <th>flee</th>\n",
       "      <th>body_camera</th>\n",
       "      <th>longitude</th>\n",
       "      <th>latitude</th>\n",
       "      <th>is_geocoding_exact</th>\n",
       "    </tr>\n",
       "  </thead>\n",
       "  <tbody>\n",
       "    <tr>\n",
       "      <th>5860</th>\n",
       "      <td>6401</td>\n",
       "      <td>Mark Brewer</td>\n",
       "      <td>2020-12-06</td>\n",
       "      <td>shot</td>\n",
       "      <td>screwdriver</td>\n",
       "      <td>28.0</td>\n",
       "      <td>M</td>\n",
       "      <td>NaN</td>\n",
       "      <td>St. Louis</td>\n",
       "      <td>MO</td>\n",
       "      <td>False</td>\n",
       "      <td>other</td>\n",
       "      <td>Not fleeing</td>\n",
       "      <td>False</td>\n",
       "      <td>-90.260</td>\n",
       "      <td>38.586</td>\n",
       "      <td>True</td>\n",
       "    </tr>\n",
       "    <tr>\n",
       "      <th>5861</th>\n",
       "      <td>6411</td>\n",
       "      <td>Donald Edwin Saunders</td>\n",
       "      <td>2020-12-06</td>\n",
       "      <td>shot</td>\n",
       "      <td>gun</td>\n",
       "      <td>37.0</td>\n",
       "      <td>M</td>\n",
       "      <td>B</td>\n",
       "      <td>Dayton</td>\n",
       "      <td>OH</td>\n",
       "      <td>False</td>\n",
       "      <td>attack</td>\n",
       "      <td>Not fleeing</td>\n",
       "      <td>False</td>\n",
       "      <td>-84.138</td>\n",
       "      <td>39.772</td>\n",
       "      <td>True</td>\n",
       "    </tr>\n",
       "    <tr>\n",
       "      <th>5862</th>\n",
       "      <td>6408</td>\n",
       "      <td>NaN</td>\n",
       "      <td>2020-12-08</td>\n",
       "      <td>shot</td>\n",
       "      <td>hammer</td>\n",
       "      <td>NaN</td>\n",
       "      <td>M</td>\n",
       "      <td>NaN</td>\n",
       "      <td>Las Vegas</td>\n",
       "      <td>NV</td>\n",
       "      <td>False</td>\n",
       "      <td>attack</td>\n",
       "      <td>Not fleeing</td>\n",
       "      <td>False</td>\n",
       "      <td>-115.286</td>\n",
       "      <td>36.096</td>\n",
       "      <td>True</td>\n",
       "    </tr>\n",
       "    <tr>\n",
       "      <th>5863</th>\n",
       "      <td>6409</td>\n",
       "      <td>NaN</td>\n",
       "      <td>2020-12-08</td>\n",
       "      <td>shot</td>\n",
       "      <td>undetermined</td>\n",
       "      <td>NaN</td>\n",
       "      <td>M</td>\n",
       "      <td>NaN</td>\n",
       "      <td>Gates</td>\n",
       "      <td>OR</td>\n",
       "      <td>False</td>\n",
       "      <td>undetermined</td>\n",
       "      <td>NaN</td>\n",
       "      <td>False</td>\n",
       "      <td>-122.417</td>\n",
       "      <td>44.756</td>\n",
       "      <td>True</td>\n",
       "    </tr>\n",
       "    <tr>\n",
       "      <th>5864</th>\n",
       "      <td>6410</td>\n",
       "      <td>Dylan Ray Scott</td>\n",
       "      <td>2020-12-08</td>\n",
       "      <td>shot</td>\n",
       "      <td>unarmed</td>\n",
       "      <td>27.0</td>\n",
       "      <td>M</td>\n",
       "      <td>W</td>\n",
       "      <td>Riverview</td>\n",
       "      <td>FL</td>\n",
       "      <td>True</td>\n",
       "      <td>attack</td>\n",
       "      <td>Car</td>\n",
       "      <td>True</td>\n",
       "      <td>-82.320</td>\n",
       "      <td>27.893</td>\n",
       "      <td>True</td>\n",
       "    </tr>\n",
       "  </tbody>\n",
       "</table>\n",
       "</div>"
      ],
      "text/plain": [
       "        id                   name        date manner_of_death         armed  \\\n",
       "5860  6401            Mark Brewer  2020-12-06            shot   screwdriver   \n",
       "5861  6411  Donald Edwin Saunders  2020-12-06            shot           gun   \n",
       "5862  6408                    NaN  2020-12-08            shot        hammer   \n",
       "5863  6409                    NaN  2020-12-08            shot  undetermined   \n",
       "5864  6410        Dylan Ray Scott  2020-12-08            shot       unarmed   \n",
       "\n",
       "       age gender race       city state  signs_of_mental_illness  \\\n",
       "5860  28.0      M  NaN  St. Louis    MO                    False   \n",
       "5861  37.0      M    B     Dayton    OH                    False   \n",
       "5862   NaN      M  NaN  Las Vegas    NV                    False   \n",
       "5863   NaN      M  NaN      Gates    OR                    False   \n",
       "5864  27.0      M    W  Riverview    FL                     True   \n",
       "\n",
       "      threat_level         flee  body_camera  longitude  latitude  \\\n",
       "5860         other  Not fleeing        False    -90.260    38.586   \n",
       "5861        attack  Not fleeing        False    -84.138    39.772   \n",
       "5862        attack  Not fleeing        False   -115.286    36.096   \n",
       "5863  undetermined          NaN        False   -122.417    44.756   \n",
       "5864        attack          Car         True    -82.320    27.893   \n",
       "\n",
       "      is_geocoding_exact  \n",
       "5860                True  \n",
       "5861                True  \n",
       "5862                True  \n",
       "5863                True  \n",
       "5864                True  "
      ]
     },
     "execution_count": 21,
     "metadata": {},
     "output_type": "execute_result"
    }
   ],
   "source": [
    "data = pd.read_csv('fatal-police-shootings-data.csv')\n",
    "data.tail()"
   ]
  },
  {
   "cell_type": "code",
   "execution_count": 3,
   "metadata": {},
   "outputs": [
    {
     "data": {
      "text/plain": [
       "(id                           int64\n",
       " name                        object\n",
       " date                        object\n",
       " manner_of_death             object\n",
       " armed                       object\n",
       " age                        float64\n",
       " gender                      object\n",
       " race                        object\n",
       " city                        object\n",
       " state                       object\n",
       " signs_of_mental_illness       bool\n",
       " threat_level                object\n",
       " flee                        object\n",
       " body_camera                   bool\n",
       " longitude                  float64\n",
       " latitude                   float64\n",
       " is_geocoding_exact            bool\n",
       " dtype: object,\n",
       " id                           0\n",
       " name                       207\n",
       " date                         0\n",
       " manner_of_death              0\n",
       " armed                      212\n",
       " age                        254\n",
       " gender                       1\n",
       " race                       551\n",
       " city                         0\n",
       " state                        0\n",
       " signs_of_mental_illness      0\n",
       " threat_level                 0\n",
       " flee                       319\n",
       " body_camera                  0\n",
       " longitude                  287\n",
       " latitude                   287\n",
       " is_geocoding_exact           0\n",
       " dtype: int64)"
      ]
     },
     "execution_count": 3,
     "metadata": {},
     "output_type": "execute_result"
    }
   ],
   "source": [
    "data.dtypes, data.isnull().sum()"
   ]
  },
  {
   "cell_type": "code",
   "execution_count": 45,
   "metadata": {},
   "outputs": [],
   "source": [
    "# MORE"
   ]
  },
  {
   "cell_type": "code",
   "execution_count": null,
   "metadata": {},
   "outputs": [],
   "source": []
  },
  {
   "cell_type": "code",
   "execution_count": null,
   "metadata": {},
   "outputs": [],
   "source": []
  },
  {
   "cell_type": "code",
   "execution_count": null,
   "metadata": {},
   "outputs": [],
   "source": []
  },
  {
   "cell_type": "code",
   "execution_count": null,
   "metadata": {},
   "outputs": [],
   "source": []
  },
  {
   "cell_type": "code",
   "execution_count": null,
   "metadata": {},
   "outputs": [],
   "source": []
  },
  {
   "cell_type": "markdown",
   "metadata": {},
   "source": [
    "# Data Analysis -Wilson"
   ]
  },
  {
   "cell_type": "markdown",
   "metadata": {},
   "source": [
    "# Univariate Analysis"
   ]
  },
  {
   "cell_type": "code",
   "execution_count": 10,
   "metadata": {},
   "outputs": [
    {
     "data": {
      "text/plain": [
       "Text(0.5, 0, 'Race')"
      ]
     },
     "execution_count": 10,
     "metadata": {},
     "output_type": "execute_result"
    },
    {
     "data": {
      "image/png": "[encoded data removed]",
      "text/plain": [
       "<Figure size 432x288 with 1 Axes>"
      ]
     },
     "metadata": {
      "needs_background": "light"
     },
     "output_type": "display_data"
    }
   ],
   "source": [
    "data['race'].hist(bins=20)\n",
    "plt.title('Race Distribution of the Deaths')\n",
    "plt.ylabel('Count')\n",
    "plt.xlabel('Race')"
   ]
  },
  {
   "cell_type": "code",
   "execution_count": 11,
   "metadata": {},
   "outputs": [
    {
     "data": {
      "text/plain": [
       "Text(0.5, 0, 'Age')"
      ]
     },
     "execution_count": 11,
     "metadata": {},
     "output_type": "execute_result"
    },
    {
     "data": {
      "image/png": "[encoded data removed]",
      "text/plain": [
       "<Figure size 432x288 with 1 Axes>"
      ]
     },
     "metadata": {
      "needs_background": "light"
     },
     "output_type": "display_data"
    }
   ],
   "source": [
    "data['age'].hist()\n",
    "plt.title('Age Distribution of the Deaths')\n",
    "plt.ylabel('Count')\n",
    "plt.xlabel('Age')"
   ]
  },
  {
   "cell_type": "code",
   "execution_count": 12,
   "metadata": {},
   "outputs": [
    {
     "data": {
      "text/plain": [
       "Text(0.5, 0, 'Gender')"
      ]
     },
     "execution_count": 12,
     "metadata": {},
     "output_type": "execute_result"
    },
    {
     "data": {
      "image/png": "[encoded data removed]",
      "text/plain": [
       "<Figure size 432x288 with 1 Axes>"
      ]
     },
     "metadata": {
      "needs_background": "light"
     },
     "output_type": "display_data"
    }
   ],
   "source": [
    "data['gender'].hist(bins=3)\n",
    "plt.title('Gender Distribution of the Deaths')\n",
    "plt.ylabel('Count')\n",
    "plt.xlabel('Gender')"
   ]
  },
  {
   "cell_type": "markdown",
   "metadata": {},
   "source": [
    "# Bivariate Analysis"
   ]
  },
  {
   "cell_type": "code",
   "execution_count": 15,
   "metadata": {},
   "outputs": [],
   "source": [
    "# What is the distribution of both gender and race?"
   ]
  },
  {
   "cell_type": "code",
   "execution_count": 16,
   "metadata": {},
   "outputs": [
    {
     "data": {
      "image/png": "[encoded data removed]",
      "text/plain": [
       "<Figure size 432x288 with 3 Axes>"
      ]
     },
     "metadata": {
      "needs_background": "light"
     },
     "output_type": "display_data"
    }
   ],
   "source": [
    "from statsmodels.graphics.mosaicplot import mosaic\n",
    "mosaic(data, ['gender', 'race'],)\n",
    "plt.title('Distribution of gender and race')\n",
    "plt.show()"
   ]
  },
  {
   "cell_type": "code",
   "execution_count": 17,
   "metadata": {},
   "outputs": [],
   "source": [
    "# Compare yearly deaths."
   ]
  },
  {
   "cell_type": "code",
   "execution_count": 18,
   "metadata": {},
   "outputs": [],
   "source": [
    "year = []\n",
    "for date in data['date']:\n",
    "    year.append(int(date[:4])) # Append year, such as 2015, 2016.."
   ]
  },
  {
   "cell_type": "code",
   "execution_count": 34,
   "metadata": {},
   "outputs": [],
   "source": [
    "data['year'] = year"
   ]
  },
  {
   "cell_type": "code",
   "execution_count": 35,
   "metadata": {},
   "outputs": [
    {
     "data": {
      "text/plain": [
       "Text(0.5, 0, 'Year')"
      ]
     },
     "execution_count": 35,
     "metadata": {},
     "output_type": "execute_result"
    },
    {
     "data": {
      "image/png": "[encoded data removed]",
      "text/plain": [
       "<Figure size 432x288 with 1 Axes>"
      ]
     },
     "metadata": {
      "needs_background": "light"
     },
     "output_type": "display_data"
    }
   ],
   "source": [
    "data.groupby('year').count()['id'].plot.line()\n",
    "plt.title('Gun deaths by year')\n",
    "plt.ylabel('Count')\n",
    "plt.xlabel('Year')\n",
    "# Note that our 2020 data only contains date until December. So the result below may not accurate reflect the truth."
   ]
  },
  {
   "cell_type": "code",
   "execution_count": 22,
   "metadata": {},
   "outputs": [],
   "source": [
    "# Relationship between unarmed and race"
   ]
  },
  {
   "cell_type": "code",
   "execution_count": 23,
   "metadata": {},
   "outputs": [
    {
     "data": {
      "text/plain": [
       "Text(0, 0.5, 'count')"
      ]
     },
     "execution_count": 23,
     "metadata": {},
     "output_type": "execute_result"
    },
    {
     "data": {
      "image/png": "[encoded data removed]",
      "text/plain": [
       "<Figure size 432x288 with 1 Axes>"
      ]
     },
     "metadata": {
      "needs_background": "light"
     },
     "output_type": "display_data"
    }
   ],
   "source": [
    "unarmed = data[data['armed'] == 'unarmed']\n",
    "unarmed['race'].hist(bins= 20)\n",
    "plt.title('Distribution of between unarmed deaths and race')\n",
    "plt.xlabel('race')\n",
    "plt.ylabel('count')"
   ]
  },
  {
   "cell_type": "code",
   "execution_count": 24,
   "metadata": {},
   "outputs": [],
   "source": [
    "# Unarmed and not-flee"
   ]
  },
  {
   "cell_type": "code",
   "execution_count": 25,
   "metadata": {},
   "outputs": [
    {
     "data": {
      "text/plain": [
       "Text(0, 0.5, 'count')"
      ]
     },
     "execution_count": 25,
     "metadata": {},
     "output_type": "execute_result"
    },
    {
     "data": {
      "image/png": "[encoded data removed]",
      "text/plain": [
       "<Figure size 432x288 with 1 Axes>"
      ]
     },
     "metadata": {
      "needs_background": "light"
     },
     "output_type": "display_data"
    }
   ],
   "source": [
    "unarmed_unflee = unarmed[unarmed['flee']== 'Not fleeing']\n",
    "unarmed_unflee['race'].hist(bins=20)\n",
    "plt.title('Distribution of between unarmed + un-flee deaths and race')\n",
    "plt.xlabel('race')\n",
    "plt.ylabel('count')"
   ]
  },
  {
   "cell_type": "code",
   "execution_count": 26,
   "metadata": {},
   "outputs": [],
   "source": [
    "# Deaths and States"
   ]
  },
  {
   "cell_type": "code",
   "execution_count": 27,
   "metadata": {},
   "outputs": [
    {
     "data": {
      "text/plain": [
       "state\n",
       "AK     41\n",
       "AL    106\n",
       "AR     84\n",
       "AZ    272\n",
       "CA    872\n",
       "Name: id, dtype: int64"
      ]
     },
     "execution_count": 27,
     "metadata": {},
     "output_type": "execute_result"
    }
   ],
   "source": [
    "data.groupby('state').count()['id'].head()"
   ]
  },
  {
   "cell_type": "code",
   "execution_count": 28,
   "metadata": {},
   "outputs": [],
   "source": [
    "# Body camera on vs. race"
   ]
  },
  {
   "cell_type": "code",
   "execution_count": 29,
   "metadata": {},
   "outputs": [
    {
     "data": {
      "text/plain": [
       "race\n",
       "A    0.166667\n",
       "B    0.172708\n",
       "H    0.134010\n",
       "N    0.170732\n",
       "O    0.127660\n",
       "W    0.101224\n",
       "Name: id, dtype: float64"
      ]
     },
     "execution_count": 29,
     "metadata": {},
     "output_type": "execute_result"
    }
   ],
   "source": [
    "race_cam_off = data[data['body_camera']==False].groupby('race').count()['id']\n",
    "race_cam_on = data[data['body_camera']==True].groupby('race').count()['id']\n",
    "race_cam_on/(race_cam_on + race_cam_off)"
   ]
  },
  {
   "cell_type": "code",
   "execution_count": 30,
   "metadata": {},
   "outputs": [],
   "source": [
    "# Unarmed vs. race"
   ]
  },
  {
   "cell_type": "code",
   "execution_count": 31,
   "metadata": {},
   "outputs": [
    {
     "data": {
      "text/plain": [
       "race\n",
       "A    0.083333\n",
       "B    0.089552\n",
       "H    0.070051\n",
       "N    0.060976\n",
       "O    0.106383\n",
       "W    0.057842\n",
       "Name: id, dtype: float64"
      ]
     },
     "execution_count": 31,
     "metadata": {},
     "output_type": "execute_result"
    }
   ],
   "source": [
    "race_unarmed = data[data['armed']=='unarmed'].groupby('race').count()['id']\n",
    "race_armed = data[data['armed']!='unarmed'].groupby('race').count()['id']\n",
    "race_unarmed/(race_armed+race_unarmed)"
   ]
  },
  {
   "cell_type": "code",
   "execution_count": null,
   "metadata": {},
   "outputs": [],
   "source": []
  },
  {
   "cell_type": "markdown",
   "metadata": {},
   "source": [
    "02/03 when CDC declared emergency outbreak"
   ]
  },
  {
   "cell_type": "code",
   "execution_count": 32,
   "metadata": {},
   "outputs": [],
   "source": [
    "after = data[data['date']  >= '2020-02-03']\n",
    "before = data[data['date']  < '2020-02-03']"
   ]
  },
  {
   "cell_type": "markdown",
   "metadata": {},
   "source": [
    "# Results"
   ]
  },
  {
   "cell_type": "code",
   "execution_count": null,
   "metadata": {},
   "outputs": [],
   "source": []
  },
  {
   "cell_type": "markdown",
   "metadata": {},
   "source": [
    "# Ethics & Privacy"
   ]
  },
  {
   "cell_type": "code",
   "execution_count": null,
   "metadata": {},
   "outputs": [],
   "source": []
  },
  {
   "cell_type": "markdown",
   "metadata": {},
   "source": [
    "# Conclusion & Discussion"
   ]
  },
  {
   "cell_type": "code",
   "execution_count": null,
   "metadata": {},
   "outputs": [],
   "source": []
  },
  {
   "cell_type": "markdown",
   "metadata": {},
   "source": [
    "# Team Contributions"
   ]
  },
  {
   "cell_type": "code",
   "execution_count": 43,
   "metadata": {},
   "outputs": [],
   "source": [
    "# Write down what u did, in sentence/paragraph form."
   ]
  },
  {
   "cell_type": "code",
   "execution_count": null,
   "metadata": {},
   "outputs": [],
   "source": []
  }
 ],
 "metadata": {
  "kernelspec": {
   "display_name": "Python 3",
   "language": "python",
   "name": "python3"
  },
  "language_info": {
   "codemirror_mode": {
    "name": "ipython",
    "version": 3
   },
   "file_extension": ".py",
   "mimetype": "text/x-python",
   "name": "python",
   "nbconvert_exporter": "python",
   "pygments_lexer": "ipython3",
   "version": "3.6.8"
  }
 },
 "nbformat": 4,
 "nbformat_minor": 4
}
