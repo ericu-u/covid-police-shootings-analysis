{
 "cells": [
  {
   "cell_type": "markdown",
   "metadata": {},
   "source": [
    "# COGS 108 - Final Project Proposal"
   ]
  },
  {
   "cell_type": "markdown",
   "metadata": {},
   "source": [
    "# Names\n",
    "\n",
    "- Yilan Guo\n",
    "- Xueru Xie\n",
    "- Jinsong Yang\n",
    "- Zeqian Min\n",
    "- Eric Wang"
   ]
  },
  {
   "cell_type": "markdown",
   "metadata": {},
   "source": [
    "# Group Members IDs\n",
    "\n",
    "- A15563949\n",
    "- A15451232\n",
    "- A15389337\n",
    "- A15481129\n",
    "- A15545920"
   ]
  },
  {
   "cell_type": "markdown",
   "metadata": {},
   "source": [
    "# Research Question"
   ]
  },
  {
   "cell_type": "markdown",
   "metadata": {},
   "source": [
    "*Fill in your research question here*"
   ]
  },
  {
   "cell_type": "markdown",
   "metadata": {},
   "source": [
    "What are some similar and different trends in gun shooting events before and after the outbreak of COVID-19 pandemic?"
   ]
  },
  {
   "cell_type": "markdown",
   "metadata": {},
   "source": [
    "## Background and Prior Work"
   ]
  },
  {
   "cell_type": "markdown",
   "metadata": {},
   "source": [
    "*Fill in your background and prior work here. Be sure to specify which statements are from which references.* \n",
    "\n",
    "\n",
    "We are interested in studying gun shooting events in America because we want to know how serious is this affecting many Americans. We want to know why American people keep dying under mass shootings. Specifically, we want to know how a gun shooting happens, why a gun shooting happens, and who a gun shooting targets. Our first hypothesis is that gun shooting events should decrease after the outbreak of COVID-19 because of the stay home orders that prevent people shooting others. The article from Bloogberg confirms our prediction, since \"the number of mass shooting incidents, killings and firearm injuries all dropped as states and cities took aggressive measures to contain the virus\" (2).\n",
    "\n",
    "Besides looking for the gun shooting rate between pre-COVID and post-COVID, we also want to know about the correlation between gun violence and race because we want to know whether a certain race is being discriminated by the police force. CNN has done a research on the similar topic, showing a chart of how black Americans has more firarm homicide death rate than white Americans (1). We want to know whether there is a similar trend between the race and the police when it comes to police shooting.\n",
    "\n",
    "References (include links):\n",
    "- 1) https://www.cnn.com/2018/04/23/health/gun-deaths-in-men-by-state-study/index.html\n",
    "- 2) https://www.bloomberg.com/news/articles/2020-05-09/one-good-thing-from-the-pandemic-mass-shootings-in-u-s-plunge"
   ]
  },
  {
   "cell_type": "markdown",
   "metadata": {},
   "source": [
    "# Hypothesis\n"
   ]
  },
  {
   "cell_type": "markdown",
   "metadata": {},
   "source": [
    "*State and defend your hypotheses here.*"
   ]
  },
  {
   "cell_type": "markdown",
   "metadata": {},
   "source": [
    "We predict that the gun shooting events decreased since the outbreak of covid-19 pandemic because of the quarantine/stay home order\n",
    "\n",
    "We predict that the gun shooting events have a strong correlation with race (discrimining against African Americans) because they have been oppressed by white Americans.\n"
   ]
  },
  {
   "cell_type": "markdown",
   "metadata": {},
   "source": [
    "# Data"
   ]
  },
  {
   "cell_type": "markdown",
   "metadata": {},
   "source": [
    "*Explain what the ideal dataset you would want to answer this question. (This should include: What variables? How many observations? Who/what/how would these data be collected? How would these data be stored/organized?)*"
   ]
  },
  {
   "cell_type": "markdown",
   "metadata": {},
   "source": [
    "What variables would you have?\n",
    "- Name\n",
    "- Race\n",
    "- Time\n",
    "- Weapon\n",
    "- Death (Yes/No)\n",
    "- Covid Death\n",
    "- Covid infected\n",
    "\n",
    "How would they be stored?\n",
    "- Preferably stored in a csv file and variables being either string, float, bool\n",
    "\n",
    "How many observations would you have?\n",
    "- Preferably more than 7000 rows for both covid dataset and gun shooting dataset\n",
    "\n",
    "What/who would the observations be? etc.)\n",
    "- For shooting dataset, preferably dataset from police department and for Covid, preferably dataset from a reliable research source.\n",
    "\n"
   ]
  },
  {
   "cell_type": "markdown",
   "metadata": {},
   "source": [
    "# Ethics & Privacy"
   ]
  },
  {
   "cell_type": "markdown",
   "metadata": {},
   "source": [
    "*Fill in your ethics & privacy discussion here*"
   ]
  },
  {
   "cell_type": "markdown",
   "metadata": {},
   "source": [
    "The datasets we are trying to obtain are from Kaggle, which is a platform with thousands of open datasets. Since they are posted publicly on Kaggle, we could safely assume that the publishers are aware of others' usage. However, it is extremely hard to get informed consent from each subject, especially for shooting cases or Covid-19 cases in the data collection process. We hope both of the datasets come from national or government institutions and track accidents that occurred in real life; thus they do not discriminate against any groups unintentionally. Also, we should make sure that the size of the datasets is large enough for us to make a scientific and reliable conclusion, which will be replicable in the future.\n",
    "\n",
    "\n",
    "In order to ensure privacy is well protected, we need to minimize exposure of personally identifiable information (PII) and protect the subjects from potential unintended consequences. We need to reach out to the dataset publisher to 1) obtain his/her permission to use the dataset, 2) the subjects are aware of study, and 3) ensure that the dataset’s reliability and the data. Also, during the project, each of us should remind ourselves that each observation represents a single human being, and we have to conduct our project in an ethical and equitable manner to further limit the potential bias. By following those above, we could confirm that our project is conducted within ethical guidelines.\n"
   ]
  },
  {
   "cell_type": "markdown",
   "metadata": {},
   "source": [
    "# Team Expectations "
   ]
  },
  {
   "cell_type": "markdown",
   "metadata": {},
   "source": [
    "Consistent communication and reachability.\n",
    "- Team members should check messaging platform(s) at least once every 24 hours and respond if necessary.\n",
    "\n",
    "Accountability.\n",
    "- Agreements made as a team must be upheld, and assigned tasks must be evenly distributed and completed by the deadline decided by the team.\n",
    "\n",
    "Accommodations and Honesty.\n",
    "- If a team member feels unable to complete their assigned tasks, or wants to work on a different portion, then they should let the other team members know, so task assignments can be revised. The sooner the better!\n",
    "\n",
    "Respectfulness.\n",
    "- If a teammate has a differing opinion, or if you have a differing opinion, then vocalize it in a way that isn’t forceful or negatively impacts the attitude of others."
   ]
  },
  {
   "cell_type": "markdown",
   "metadata": {},
   "source": [
    "# Project Timeline Proposal"
   ]
  },
  {
   "cell_type": "markdown",
   "metadata": {},
   "source": [
    "| Meeting Date  | Meeting Time| Completed Before Meeting  | Discuss at Meeting |\n",
    "|---|---|---|---|\n",
    "| 10/23  |  1 PM | Think about COGS 108 expectations; brainstorm topics/questions, search for possible online databases | Determine best form of communication; Vote for weekly meeting time; vote for topic and database choice; Write project proposal | \n",
    "| 10/30  |  1 PM | Do background research on topic, find related information and past projects | Discuss ideal dataset(s) and ethics; draft real question and hypothesis | \n",
    "| 11/06  | 1 PM  | Edit, finalize, and submit proposal; Settle down datasets | Discuss Wrangling and possible analytical approaches; Assign group members to lead each specific part |\n",
    "| 11/13  | 1 PM  | Import & Wrangle Data; EDA | Review/Edit wrangling/EDA; Discuss Analysis Plan Write base code for the project |\n",
    "| 11/20  | 1 PM  | Finalize wrangling/EDA; Begin Analysis | Discuss/edit the direction of analysis; format the analysis process |\n",
    "| 11/27  | 1 PM  | Complete analysis; Draft results/conclusion/discussion | Discuss/edit full project, finalize visualization attributes, such as color, size, side notes, and font |\n",
    "| 12/04  | 1 PM  | NA | Turn in Final Project & Group Project Surveys |"
   ]
  },
  {
   "cell_type": "code",
   "execution_count": null,
   "metadata": {},
   "outputs": [],
   "source": []
  }
 ],
 "metadata": {
  "kernelspec": {
   "display_name": "Python 3",
   "language": "python",
   "name": "python3"
  },
  "language_info": {
   "codemirror_mode": {
    "name": "ipython",
    "version": 3
   },
   "file_extension": ".py",
   "mimetype": "text/x-python",
   "name": "python",
   "nbconvert_exporter": "python",
   "pygments_lexer": "ipython3",
   "version": "3.6.8"
  }
 },
 "nbformat": 4,
 "nbformat_minor": 2
}
